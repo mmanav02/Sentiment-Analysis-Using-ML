{
 "cells": [
  {
   "cell_type": "markdown",
   "metadata": {
    "id": "mNfau43NmYZy"
   },
   "source": [
    "# Data Preprocessing "
   ]
  },
  {
   "cell_type": "code",
   "execution_count": 6,
   "metadata": {
    "id": "pmXlFr_4d1cP"
   },
   "outputs": [],
   "source": [
    "# importing Modules\n",
    "import sklearn as sk\n",
    "import pandas as pd\n",
    "from sklearn.model_selection import train_test_split\n",
    "from sklearn.svm import SVC\n",
    "from sklearn.linear_model import SGDClassifier\n",
    "from sklearn.naive_bayes import MultinomialNB\n",
    "from sklearn.feature_extraction.text import CountVectorizer\n",
    "from sklearn.feature_extraction.text import TfidfVectorizer\n",
    "from sklearn import metrics\n",
    "from sklearn.model_selection import GridSearchCV\n",
    "from sklearn.neural_network import MLPClassifier\n",
    "from sklearn.tree import DecisionTreeClassifier\n",
    "from sklearn.metrics import accuracy_score, classification_report, plot_roc_curve\n",
    "import matplotlib.pyplot as plt\n",
    "from sklearn.metrics import confusion_matrix\n",
    "from sklearn.pipeline import Pipeline\n",
    "import numpy as np\n",
    "from sklearn.preprocessing import StandardScaler\n",
    "from sklearn.neighbors import KNeighborsClassifier\n",
    "import re"
   ]
  },
  {
   "cell_type": "code",
   "execution_count": 3,
   "metadata": {
    "colab": {
     "base_uri": "https://localhost:8080/"
    },
    "id": "GaqDHO6peBvf",
    "outputId": "42be4b12-be36-4d8d-c266-8c6e2c7fc325"
   },
   "outputs": [
    {
     "name": "stderr",
     "output_type": "stream",
     "text": [
      "C:\\Users\\ABC\\AppData\\Local\\Temp\\ipykernel_18116\\879372011.py:3: FutureWarning: The default value of regex will change from True to False in a future version.\n",
      "  df['tweet'] = df['tweet'].str.replace('http[s]?://(?:[a-zA-Z]|[0-9]|[$-_@.&+]|[!*\\(\\),]|(?:%[0-9a-fA-F][0-9a-fA-F]))+', ' ')\n",
      "C:\\Users\\ABC\\AppData\\Local\\Temp\\ipykernel_18116\\879372011.py:4: FutureWarning: The default value of regex will change from True to False in a future version.\n",
      "  df['tweet'] = df['tweet'].str.replace('http[s]', ' ')\n"
     ]
    }
   ],
   "source": [
    "# Data Cleaning (Removing Links From the Dataset)\n",
    "df = pd.read_csv(\"labeled_data.csv\")\n",
    "df['tweet'] = df['tweet'].str.replace('http[s]?://(?:[a-zA-Z]|[0-9]|[$-_@.&+]|[!*\\(\\),]|(?:%[0-9a-fA-F][0-9a-fA-F]))+', ' ')\n",
    "df['tweet'] = df['tweet'].str.replace('http[s]', ' ')"
   ]
  },
  {
   "cell_type": "code",
   "execution_count": 4,
   "metadata": {
    "colab": {
     "base_uri": "https://localhost:8080/",
     "height": 518
    },
    "id": "htK69citeeiQ",
    "outputId": "d7ef4f94-72d7-41b7-a4ca-e24900936b26"
   },
   "outputs": [
    {
     "name": "stdout",
     "output_type": "stream",
     "text": [
      "       Unnamed: 0  count  hate_speech  offensive_language  neither  class  \\\n",
      "0               0      3            0                   0        3      2   \n",
      "1               1      3            0                   3        0      1   \n",
      "2               2      3            0                   3        0      1   \n",
      "3               3      3            0                   2        1      1   \n",
      "4               4      6            0                   6        0      1   \n",
      "...           ...    ...          ...                 ...      ...    ...   \n",
      "24777       25290      3            2                   1        0      0   \n",
      "24778       25291      3            0                   2        1      1   \n",
      "24779       25292      3            0                   1        2      2   \n",
      "24780       25294      3            0                   3        0      1   \n",
      "24781       25295      6            0                   6        0      1   \n",
      "\n",
      "                                                   tweet  \n",
      "0      !!! RT @mayasolovely: As a woman you shouldn't...  \n",
      "1      !!!!! RT @mleew17: boy dats cold...tyga dwn ba...  \n",
      "2      !!!!!!! RT @UrKindOfBrand Dawg!!!! RT @80sbaby...  \n",
      "3      !!!!!!!!! RT @C_G_Anderson: @viva_based she lo...  \n",
      "4      !!!!!!!!!!!!! RT @ShenikaRoberts: The shit you...  \n",
      "...                                                  ...  \n",
      "24777  you're such a retard i hope you get type 2 dia...  \n",
      "24778  you's a muthaf***in lie &#8220;@LifeAsKing: @2...  \n",
      "24779  you've gone and broke the wrong heart baby, an...  \n",
      "24780  young buck wanna eat!!.. dat nigguh like I ain...  \n",
      "24781              youu got wild bitches tellin you lies  \n",
      "\n",
      "[24782 rows x 7 columns]\n"
     ]
    },
    {
     "data": {
      "text/plain": [
       "'0 - hate speech \\n   1 - offensive language\\n   2 - neither'"
      ]
     },
     "execution_count": 4,
     "metadata": {},
     "output_type": "execute_result"
    }
   ],
   "source": [
    "#Printing Dataset\n",
    "df = df[0:len(df)-1]\n",
    "print(df)\n",
    "\"\"\"0 - hate speech \n",
    "   1 - offensive language\n",
    "   2 - neither\"\"\""
   ]
  },
  {
   "cell_type": "code",
   "execution_count": 5,
   "metadata": {
    "id": "vhPLPlgyediI"
   },
   "outputs": [],
   "source": [
    "# Creating train and test dataset\n",
    "X_primary = df['tweet']\n",
    "Y = df['class']\n",
    "cv = TfidfVectorizer()\n",
    "X = cv.fit_transform(X_primary)"
   ]
  },
  {
   "cell_type": "markdown",
   "metadata": {
    "id": "VHVNNemBfRMA"
   },
   "source": [
    "# Models Without GridSearch"
   ]
  },
  {
   "cell_type": "code",
   "execution_count": null,
   "metadata": {
    "colab": {
     "base_uri": "https://localhost:8080/",
     "height": 1000
    },
    "id": "3aSwKOiefbZI",
    "outputId": "b4b8a4cc-8d36-4cd4-ef2c-f0b30006cabf"
   },
   "outputs": [
    {
     "name": "stdout",
     "output_type": "stream",
     "text": [
      "0.8097982708933718 86.0\n",
      "[[ 0.7819385  50.        ]\n",
      " [ 0.78631423 51.        ]\n",
      " [ 0.78135508 52.        ]\n",
      " [ 0.78597184 53.        ]\n",
      " [ 0.78570175 54.        ]\n",
      " [ 0.78586801 55.        ]\n",
      " [ 0.78386061 56.        ]\n",
      " [ 0.78765131 57.        ]\n",
      " [ 0.78633875 58.        ]\n",
      " [ 0.78820982 59.        ]\n",
      " [ 0.78523151 60.        ]\n",
      " [ 0.77920331 61.        ]\n",
      " [ 0.79709068 62.        ]\n",
      " [ 0.79411123 63.        ]\n",
      " [ 0.7938803  64.        ]\n",
      " [ 0.78994697 65.        ]\n",
      " [ 0.79515784 66.        ]\n",
      " [ 0.78774911 67.        ]\n",
      " [ 0.79220779 68.        ]\n",
      " [ 0.78706235 69.        ]\n",
      " [ 0.78883658 70.        ]\n",
      " [ 0.79518575 71.        ]\n",
      " [ 0.79348609 72.        ]\n",
      " [ 0.7876569  73.        ]\n",
      " [ 0.79484792 74.        ]\n",
      " [ 0.78841188 75.        ]\n",
      " [ 0.78244788 76.        ]\n",
      " [ 0.79508772 77.        ]\n",
      " [ 0.79277462 78.        ]\n",
      " [ 0.79385207 79.        ]\n",
      " [ 0.78838007 80.        ]\n",
      " [ 0.80123168 81.        ]\n",
      " [ 0.78502578 82.        ]\n",
      " [ 0.78661286 83.        ]\n",
      " [ 0.78441755 84.        ]\n",
      " [ 0.78483055 85.        ]\n",
      " [ 0.80979827 86.        ]\n",
      " [ 0.79484792 87.        ]\n",
      " [ 0.79589778 88.        ]\n",
      " [ 0.7909791  89.        ]]\n",
      "For different ratio of train and test data we have got maximum accuracy of 0.8097982708933718 for 0.86% of training Data and 0.14% of Test data\n"
     ]
    },
    {
     "data": {
      "image/png": "[encoded data removed]",
      "text/plain": [
       "<Figure size 432x288 with 1 Axes>"
      ]
     },
     "metadata": {
      "needs_background": "light"
     },
     "output_type": "display_data"
    }
   ],
   "source": [
    "#APPLYING MULTINOMIALNB\n",
    "acc = []\n",
    "for i in range(50,90):\n",
    "  arr = []\n",
    "  train_X, test_X, train_Y, test_Y = train_test_split(X,Y,train_size=i/100)\n",
    "  M_nb = MultinomialNB()\n",
    "  M_nb.fit(train_X,train_Y)\n",
    "  pred_y = M_nb.predict(test_X)\n",
    "  accuracy = metrics.accuracy_score(pred_y,test_Y)\n",
    "  arr.append(accuracy)\n",
    "  arr.append(i)\n",
    "  acc.append(arr)\n",
    "acc = np.array(acc)\n",
    "plt.plot(acc[:,1],acc[:,0],marker='.',color='g')\n",
    "max_acc = acc[0,0]\n",
    "max_index = acc[0,1]\n",
    "for i in acc:\n",
    "  if i[0]>max_acc:\n",
    "    max_acc = i[0]\n",
    "    max_index = i[1]\n",
    "\n",
    "print(max_acc, max_index)\n",
    "print(acc)\n",
    "print(\"For different ratio of train and test data we have got maximum accuracy of {0} for {1}% of training Data and {2}% of Test data\".format(max_acc,max_index/100,(100-max_index)/100))"
   ]
  },
  {
   "cell_type": "code",
   "execution_count": null,
   "metadata": {
    "id": "t8hVCSG5gLvY"
   },
   "outputs": [],
   "source": [
    "# SVM\n",
    "X = df['tweet']\n",
    "Y = df['class']\n",
    "cv = TfidfVectorizer(lowercase=True)\n",
    "X = cv.fit_transform(X)\n",
    "size = X.shape[0]\n",
    "acc = []\n",
    "test_sequence=[]\n",
    "params = {'C': [0.1,1,10,100,1000],\n",
    "         'gamma': [1,0.1,0.01,0.001,0.0001],\n",
    "         'kernel': ['rbf']}\n",
    "train_X, test_X, train_Y, test_Y = train_test_split(X,Y,train_size=0.8)\n",
    "search=GridSearchCV(SVC(),params,refit=True,verbose=3)\n",
    "search.fit(train_X,train_Y)\n",
    "pred_y = search.predict(test_X)\n",
    "print(metrics.accuracy_score(pred_y,test_Y))"
   ]
  },
  {
   "cell_type": "code",
   "execution_count": null,
   "metadata": {
    "colab": {
     "base_uri": "https://localhost:8080/",
     "height": 313
    },
    "id": "U67aqlKDh9Bh",
    "outputId": "ec674e8e-c568-4ab6-8d6f-e00ca1628b3c"
   },
   "outputs": [
    {
     "name": "stdout",
     "output_type": "stream",
     "text": [
      "We got maximum accuracy of 0.8301391970950172 for K=7.0\n"
     ]
    },
    {
     "data": {
      "image/png": "[encoded data removed]",
      "text/plain": [
       "<Figure size 432x288 with 1 Axes>"
      ]
     },
     "metadata": {
      "needs_background": "light"
     },
     "output_type": "display_data"
    }
   ],
   "source": [
    "# KNN\n",
    "train_X, test_X, train_Y, test_Y = train_test_split(X,Y,test_size=0.20)\n",
    "acc=[]\n",
    "for i in range(1,150,2):\n",
    "  arr = []\n",
    "  clf=KNeighborsClassifier(n_neighbors=i)\n",
    "  clf.fit(train_X,train_Y)\n",
    "  y_pred=clf.predict(test_X)\n",
    "  arr.append(metrics.accuracy_score(test_Y,y_pred,normalize=True))\n",
    "  arr.append(i)\n",
    "  acc.append(arr)\n",
    "acc = np.array(acc)\n",
    "plt.title(\"K Nearest Neighbours\")\n",
    "plt.xlabel(\"Value of K\")\n",
    "plt.ylabel(\"Accuracy\")\n",
    "plt.plot(acc[:,1],acc[:,0],marker='.')\n",
    "max_acc = acc[0,0]\n",
    "max_index = acc[0,1]\n",
    "for i in acc:\n",
    "  if i[0]>max_acc:\n",
    "    max_acc = i[0]\n",
    "    max_index = i[1]\n",
    "print(\"We got maximum accuracy of {0} for K={1}\".format(max_acc,max_index))"
   ]
  },
  {
   "cell_type": "code",
   "execution_count": null,
   "metadata": {
    "colab": {
     "base_uri": "https://localhost:8080/",
     "height": 654
    },
    "id": "pXMCU2YDgjAD",
    "outputId": "cc7fa0fd-0fef-4200-f6fe-492b6bf0ae22"
   },
   "outputs": [
    {
     "name": "stdout",
     "output_type": "stream",
     "text": [
      "[[0.8836252118473086, 50]]\n",
      "[[0.8836252118473086, 50], [0.8855810616929699, 55]]\n",
      "[[0.8836252118473086, 50], [0.8855810616929699, 55], [0.8822757994552608, 60]]\n",
      "[[0.8836252118473086, 50], [0.8855810616929699, 55], [0.8822757994552608, 60], [0.89428176158635, 65]]\n",
      "[[0.8836252118473086, 50], [0.8855810616929699, 55], [0.8822757994552608, 60], [0.89428176158635, 65], [0.8894418291862811, 70]]\n",
      "[[0.8836252118473086, 50], [0.8855810616929699, 55], [0.8822757994552608, 60], [0.89428176158635, 65], [0.8894418291862811, 70], [0.881536475145255, 75]]\n",
      "[[0.8836252118473086, 50], [0.8855810616929699, 55], [0.8822757994552608, 60], [0.89428176158635, 65], [0.8894418291862811, 70], [0.881536475145255, 75], [0.8930804922332055, 80]]\n",
      "[[0.8836252118473086, 50], [0.8855810616929699, 55], [0.8822757994552608, 60], [0.89428176158635, 65], [0.8894418291862811, 70], [0.881536475145255, 75], [0.8930804922332055, 80], [0.8878429263044648, 85]]\n",
      "[[0.8836252118473086, 50], [0.8855810616929699, 55], [0.8822757994552608, 60], [0.89428176158635, 65], [0.8894418291862811, 70], [0.881536475145255, 75], [0.8930804922332055, 80], [0.8878429263044648, 85], [0.8878580072609923, 90]]\n",
      "[[ 0.88362521 50.        ]\n",
      " [ 0.88558106 55.        ]\n",
      " [ 0.8822758  60.        ]\n",
      " [ 0.89428176 65.        ]\n",
      " [ 0.88944183 70.        ]\n",
      " [ 0.88153648 75.        ]\n",
      " [ 0.89308049 80.        ]\n",
      " [ 0.88784293 85.        ]\n",
      " [ 0.88785801 90.        ]]\n",
      "For different ratio of train and test data we have got maximum accuracy of 0.89428176158635 for 65.0% of training Data and 35.0% of Test data\n"
     ]
    },
    {
     "data": {
      "image/png": "[encoded data removed]",
      "text/plain": [
       "<Figure size 432x288 with 1 Axes>"
      ]
     },
     "metadata": {
      "needs_background": "light"
     },
     "output_type": "display_data"
    }
   ],
   "source": [
    "# ANN \n",
    "X = df['tweet']\n",
    "Y = df['class']\n",
    "cv = TfidfVectorizer(lowercase=True)\n",
    "X = cv.fit_transform(X)\n",
    "size = X.shape[0]\n",
    "acc = []\n",
    "test_sequence=[]\n",
    "for i in range(50,95,5):\n",
    "  arr = []\n",
    "  test_sequence.append(i)\n",
    "  train_X, test_X, train_Y, test_Y = train_test_split(X,Y,train_size=i/100)\n",
    "  MLP = MLPClassifier(solver='lbfgs', alpha=1e-5,hidden_layer_sizes=(6,),random_state=1, activation='relu', max_iter=500)\n",
    "  MLP.fit(train_X,train_Y)\n",
    "  pred_y = MLP.predict(test_X)\n",
    "  arr.append(metrics.accuracy_score(pred_y,test_Y))\n",
    "  arr.append(i)\n",
    "  acc.append(arr)\n",
    "  print(acc)\n",
    "acc = np.array(acc)\n",
    "plt.title(\"Artifical Neural Networks\")\n",
    "plt.xlabel(\"training dataset size (in %)\")\n",
    "plt.ylabel(\"Accuracy\")\n",
    "plt.plot(acc[:,1],acc[:,0],marker='.',color='g')\n",
    "print(acc)\n",
    "max_acc = acc[0,0]\n",
    "max_index = acc[0,1]\n",
    "for i in acc:\n",
    "  if i[0]>max_acc:\n",
    "    max_acc = i[0]\n",
    "    max_index = i[1]\n",
    "print(\"For different ratio of train and test data we have got maximum accuracy of {0} for {1}% of training Data and {2}% of Test data\".format(max_acc,max_index,100-max_index))"
   ]
  },
  {
   "cell_type": "code",
   "execution_count": null,
   "metadata": {
    "colab": {
     "base_uri": "https://localhost:8080/",
     "height": 956
    },
    "id": "hcLcWCr7guoP",
    "outputId": "81b1af9c-5b48-439b-b7f2-d96ea0399acb"
   },
   "outputs": [
    {
     "name": "stdout",
     "output_type": "stream",
     "text": [
      "Predicted values:\n",
      "[1 1 1 ... 1 1 1]\n",
      "Predicted values:\n",
      "[1 1 1 ... 1 1 1]\n",
      "Predicted values:\n",
      "[1 1 1 ... 1 1 1]\n",
      "Predicted values:\n",
      "[1 1 1 ... 1 1 1]\n",
      "Predicted values:\n",
      "[1 1 1 ... 1 1 1]\n",
      "Predicted values:\n",
      "[1 1 1 ... 1 1 1]\n",
      "Predicted values:\n",
      "[1 1 1 ... 1 1 1]\n",
      "Predicted values:\n",
      "[1 1 1 ... 1 1 1]\n",
      "Predicted values:\n",
      "[1 1 1 ... 1 1 1]\n",
      "Predicted values:\n",
      "[1 1 1 ... 1 1 1]\n",
      "Predicted values:\n",
      "[1 1 1 ... 1 1 1]\n",
      "Predicted values:\n",
      "[1 1 1 ... 1 1 1]\n",
      "Predicted values:\n",
      "[1 1 1 ... 1 1 1]\n",
      "Predicted values:\n",
      "[1 1 1 ... 1 1 1]\n",
      "Predicted values:\n",
      "[1 1 1 ... 1 1 1]\n",
      "Predicted values:\n",
      "[1 1 1 ... 1 1 1]\n",
      "Predicted values:\n",
      "[1 1 1 ... 1 1 1]\n",
      "Predicted values:\n",
      "[1 1 1 ... 1 1 1]\n",
      "Gini Index:\n",
      "Entropy Index:\n"
     ]
    },
    {
     "data": {
      "text/plain": [
       "[<matplotlib.lines.Line2D at 0x7f796a2a4050>]"
      ]
     },
     "execution_count": 10,
     "metadata": {},
     "output_type": "execute_result"
    },
    {
     "data": {
      "image/png": "[encoded data removed]",
      "text/plain": [
       "<Figure size 432x288 with 1 Axes>"
      ]
     },
     "metadata": {
      "needs_background": "light"
     },
     "output_type": "display_data"
    }
   ],
   "source": [
    "# DT\n",
    "train_X, test_X, train_Y, test_Y = train_test_split(X,Y,train_size=5/100)\n",
    "def train_using_gini(X_train, X_test, Y_train):\n",
    "    clf_gini = DecisionTreeClassifier(criterion = \"gini\",random_state = 100, max_depth=3, min_samples_leaf=5)\n",
    "    clf_gini.fit(X_train, Y_train)\n",
    "    return clf_gini\n",
    "      \n",
    "def tarin_using_entropy(X_train, X_test, y_train):\n",
    "    clf_entropy = DecisionTreeClassifier(criterion = \"entropy\", random_state = 100, max_depth = 3, min_samples_leaf = 5)\n",
    "    clf_entropy.fit(X_train, y_train)\n",
    "    return clf_entropy\n",
    "def prediction(X_test, clf_object):\n",
    "    y_pred = clf_object.predict(test_X)\n",
    "    print(\"Predicted values:\")\n",
    "    print(y_pred)\n",
    "    return y_pred\n",
    "def cal_accuracy(y_test, y_pred):\n",
    "    \"\"\"print(\"Confusion Matrix: \",confusion_matrix(y_test, y_pred))\n",
    "    print (\"Accuracy : \",accuracy_score(y_test,y_pred)*100)\n",
    "    print(\"Report : \",classification_report(y_test, y_pred))\"\"\"\n",
    "    return accuracy_score(y_test,y_pred)*100\n",
    "\n",
    "acc1 = []\n",
    "acc2 = []\n",
    "test_sequence = []\n",
    "for i in range(50,95,5):\n",
    "  test_sequence.append(i)\n",
    "  train_X, test_X, train_Y, test_Y = train_test_split(X,Y,train_size=i/100)\n",
    "  clf_gini = train_using_gini(train_X, test_X, train_Y)\n",
    "  clf_entropy = tarin_using_entropy(train_X, test_X, train_Y)\n",
    "  y_pred_gini = prediction(test_X, clf_gini)\n",
    "  acc1.append(cal_accuracy(test_Y, y_pred_gini))\n",
    "  y_pred_entropy = prediction(test_X, clf_entropy)\n",
    "  acc2.append(cal_accuracy(test_Y, y_pred_entropy))\n",
    "\n",
    "print(\"Gini Index:\")\n",
    "plt.xlabel(\"value of i\")\n",
    "plt.ylabel(\"accuracy\")\n",
    "plt.plot(test_sequence,acc1,marker='.',color='g')\n",
    "print(\"Entropy Index:\")\n",
    "plt.xlabel(\"value of i\")\n",
    "plt.ylabel(\"accuracy\")\n",
    "plt.plot(test_sequence,acc2,marker='.',color='g')"
   ]
  },
  {
   "cell_type": "markdown",
   "metadata": {
    "id": "WkNT9mzGfuCX"
   },
   "source": [
    "# Models with GridSearch"
   ]
  },
  {
   "cell_type": "code",
   "execution_count": null,
   "metadata": {
    "colab": {
     "base_uri": "https://localhost:8080/"
    },
    "id": "k-CUovncf-Xx",
    "outputId": "c91a1bfd-6434-44b1-f00f-8623a7ea91f3"
   },
   "outputs": [
    {
     "name": "stdout",
     "output_type": "stream",
     "text": [
      "Fitting 5 folds for each of 6 candidates, totalling 30 fits\n",
      "[CV 1/5] END ...........................alpha=1;, score=0.789 total time=   0.0s\n",
      "[CV 2/5] END ...........................alpha=1;, score=0.788 total time=   0.0s\n",
      "[CV 3/5] END ...........................alpha=1;, score=0.789 total time=   0.0s\n",
      "[CV 4/5] END ...........................alpha=1;, score=0.790 total time=   0.0s\n",
      "[CV 5/5] END ...........................alpha=1;, score=0.787 total time=   0.0s\n",
      "[CV 1/5] END .........................alpha=0.5;, score=0.812 total time=   0.0s\n",
      "[CV 2/5] END .........................alpha=0.5;, score=0.809 total time=   0.0s\n",
      "[CV 3/5] END .........................alpha=0.5;, score=0.812 total time=   0.0s\n",
      "[CV 4/5] END .........................alpha=0.5;, score=0.808 total time=   0.0s\n",
      "[CV 5/5] END .........................alpha=0.5;, score=0.808 total time=   0.0s\n",
      "[CV 1/5] END .........................alpha=0.1;, score=0.845 total time=   0.0s\n",
      "[CV 2/5] END .........................alpha=0.1;, score=0.850 total time=   0.0s\n",
      "[CV 3/5] END .........................alpha=0.1;, score=0.846 total time=   0.0s\n",
      "[CV 4/5] END .........................alpha=0.1;, score=0.846 total time=   0.0s\n",
      "[CV 5/5] END .........................alpha=0.1;, score=0.844 total time=   0.0s\n",
      "[CV 1/5] END ........................alpha=0.01;, score=0.833 total time=   0.0s\n",
      "[CV 2/5] END ........................alpha=0.01;, score=0.825 total time=   0.0s\n",
      "[CV 3/5] END ........................alpha=0.01;, score=0.825 total time=   0.0s\n",
      "[CV 4/5] END ........................alpha=0.01;, score=0.818 total time=   0.0s\n",
      "[CV 5/5] END ........................alpha=0.01;, score=0.823 total time=   0.0s\n",
      "[CV 1/5] END .......................alpha=0.001;, score=0.824 total time=   0.0s\n",
      "[CV 2/5] END .......................alpha=0.001;, score=0.819 total time=   0.0s\n",
      "[CV 3/5] END .......................alpha=0.001;, score=0.815 total time=   0.0s\n",
      "[CV 4/5] END .......................alpha=0.001;, score=0.809 total time=   0.0s\n",
      "[CV 5/5] END .......................alpha=0.001;, score=0.813 total time=   0.0s\n",
      "[CV 1/5] END ......................alpha=0.0001;, score=0.820 total time=   0.0s\n",
      "[CV 2/5] END ......................alpha=0.0001;, score=0.817 total time=   0.0s\n",
      "[CV 3/5] END ......................alpha=0.0001;, score=0.812 total time=   0.0s\n",
      "[CV 4/5] END ......................alpha=0.0001;, score=0.805 total time=   0.0s\n",
      "[CV 5/5] END ......................alpha=0.0001;, score=0.807 total time=   0.0s\n",
      "{'alpha': 0.1}\n",
      "Accuracy Score:  0.8371757925072046\n"
     ]
    }
   ],
   "source": [
    "#multinomialNB with GridSearch\n",
    "acc = []\n",
    "alpha = [1,0.5,0.1,0.01,0.001,0.0001]\n",
    "param = {'alpha': alpha}\n",
    "train_X, test_X, train_Y, test_Y = train_test_split(X,Y,train_size=max_index/100)\n",
    "M_nb = GridSearchCV(MultinomialNB(),param,refit=True,verbose=3)\n",
    "M_nb.fit(train_X,train_Y)\n",
    "pred_y = M_nb.predict(test_X)\n",
    "print(M_nb.best_params_)\n",
    "print(\"Accuracy Score: \",metrics.accuracy_score(pred_y,test_Y))"
   ]
  },
  {
   "cell_type": "code",
   "execution_count": null,
   "metadata": {
    "id": "A4qYDsxdlwxQ"
   },
   "outputs": [],
   "source": [
    "# SVM with GridSearch\n",
    "X = df['tweet']\n",
    "Y = df['class']\n",
    "cv = TfidfVectorizer(lowercase=True)\n",
    "X = cv.fit_transform(X)\n",
    "size = X.shape[0]\n",
    "params = {'C': [0.1,1,10,100,1000],\n",
    "         'gamma': [1,0.1,0.01,0.001,0.0001],\n",
    "         'kernel': ['rbf','linear','poly'],\n",
    "          }\n",
    "train_X, test_X, train_Y, test_Y = train_test_split(X,Y,train_size=max_index/100)\n",
    "search = GridSearchCV(SVC(),params,refit=True,verbose=3)\n",
    "search.fit(train_X,train_Y)\n",
    "pred_y = search.predict(test_X)\n",
    "print(\"Accuracy: \",metrics.accuracy_score(pred_y,test_Y))\n",
    "print(\"The Best Parameters being: \",search.best_params_)"
   ]
  },
  {
   "cell_type": "code",
   "execution_count": null,
   "metadata": {
    "colab": {
     "base_uri": "https://localhost:8080/"
    },
    "id": "E21EqcytgUC_",
    "outputId": "56ae4427-abb8-4f07-8406-83e4c1111e25"
   },
   "outputs": [
    {
     "name": "stdout",
     "output_type": "stream",
     "text": [
      "Fitting 3 folds for each of 100 candidates, totalling 300 fits\n",
      "[CV 1/3] END .....................n_neighbors=1;, score=0.782 total time=   2.2s\n",
      "[CV 2/3] END .....................n_neighbors=1;, score=0.770 total time=   2.1s\n",
      "[CV 3/3] END .....................n_neighbors=1;, score=0.773 total time=   2.3s\n",
      "[CV 1/3] END .....................n_neighbors=3;, score=0.806 total time=   2.6s\n",
      "[CV 2/3] END .....................n_neighbors=3;, score=0.795 total time=   4.7s\n",
      "[CV 3/3] END .....................n_neighbors=3;, score=0.808 total time=   2.6s\n",
      "[CV 1/3] END .....................n_neighbors=5;, score=0.812 total time=   3.1s\n",
      "[CV 2/3] END .....................n_neighbors=5;, score=0.808 total time=   3.0s\n",
      "[CV 3/3] END .....................n_neighbors=5;, score=0.814 total time=   3.1s\n",
      "[CV 1/3] END .....................n_neighbors=7;, score=0.816 total time=   3.0s\n",
      "[CV 2/3] END .....................n_neighbors=7;, score=0.808 total time=   3.0s\n",
      "[CV 3/3] END .....................n_neighbors=7;, score=0.810 total time=   3.1s\n",
      "[CV 1/3] END .....................n_neighbors=9;, score=0.813 total time=   3.0s\n",
      "[CV 2/3] END .....................n_neighbors=9;, score=0.807 total time=   3.0s\n",
      "[CV 3/3] END .....................n_neighbors=9;, score=0.808 total time=   3.1s\n",
      "[CV 1/3] END ....................n_neighbors=11;, score=0.813 total time=   3.1s\n",
      "[CV 2/3] END ....................n_neighbors=11;, score=0.805 total time=   3.0s\n",
      "[CV 3/3] END ....................n_neighbors=11;, score=0.805 total time=   3.1s\n",
      "[CV 1/3] END ....................n_neighbors=13;, score=0.809 total time=   3.1s\n",
      "[CV 2/3] END ....................n_neighbors=13;, score=0.805 total time=   3.0s\n",
      "[CV 3/3] END ....................n_neighbors=13;, score=0.804 total time=   3.1s\n",
      "[CV 1/3] END ....................n_neighbors=15;, score=0.808 total time=   3.1s\n",
      "[CV 2/3] END ....................n_neighbors=15;, score=0.804 total time=   3.0s\n",
      "[CV 3/3] END ....................n_neighbors=15;, score=0.805 total time=   3.1s\n",
      "[CV 1/3] END ....................n_neighbors=17;, score=0.807 total time=   3.1s\n",
      "[CV 2/3] END ....................n_neighbors=17;, score=0.803 total time=   3.0s\n",
      "[CV 3/3] END ....................n_neighbors=17;, score=0.803 total time=   3.1s\n",
      "[CV 1/3] END ....................n_neighbors=19;, score=0.805 total time=   3.1s\n",
      "[CV 2/3] END ....................n_neighbors=19;, score=0.799 total time=   3.1s\n",
      "[CV 3/3] END ....................n_neighbors=19;, score=0.802 total time=   3.2s\n",
      "[CV 1/3] END ....................n_neighbors=21;, score=0.805 total time=   3.1s\n",
      "[CV 2/3] END ....................n_neighbors=21;, score=0.799 total time=   3.1s\n",
      "[CV 3/3] END ....................n_neighbors=21;, score=0.800 total time=   3.1s\n",
      "[CV 1/3] END ....................n_neighbors=23;, score=0.804 total time=   3.1s\n",
      "[CV 2/3] END ....................n_neighbors=23;, score=0.799 total time=   3.1s\n",
      "[CV 3/3] END ....................n_neighbors=23;, score=0.799 total time=   3.2s\n",
      "[CV 1/3] END ....................n_neighbors=25;, score=0.803 total time=   3.1s\n",
      "[CV 2/3] END ....................n_neighbors=25;, score=0.799 total time=   3.1s\n",
      "[CV 3/3] END ....................n_neighbors=25;, score=0.798 total time=   3.2s\n",
      "[CV 1/3] END ....................n_neighbors=27;, score=0.803 total time=   3.1s\n",
      "[CV 2/3] END ....................n_neighbors=27;, score=0.797 total time=   3.1s\n",
      "[CV 3/3] END ....................n_neighbors=27;, score=0.797 total time=   3.2s\n",
      "[CV 1/3] END ....................n_neighbors=29;, score=0.802 total time=   3.1s\n",
      "[CV 2/3] END ....................n_neighbors=29;, score=0.797 total time=   3.1s\n",
      "[CV 3/3] END ....................n_neighbors=29;, score=0.796 total time=   3.2s\n",
      "[CV 1/3] END ....................n_neighbors=31;, score=0.801 total time=   3.1s\n",
      "[CV 2/3] END ....................n_neighbors=31;, score=0.797 total time=   3.1s\n",
      "[CV 3/3] END ....................n_neighbors=31;, score=0.794 total time=   3.2s\n",
      "[CV 1/3] END ....................n_neighbors=33;, score=0.800 total time=   3.1s\n",
      "[CV 2/3] END ....................n_neighbors=33;, score=0.796 total time=   3.1s\n",
      "[CV 3/3] END ....................n_neighbors=33;, score=0.795 total time=   3.2s\n",
      "[CV 1/3] END ....................n_neighbors=35;, score=0.800 total time=   3.1s\n",
      "[CV 2/3] END ....................n_neighbors=35;, score=0.796 total time=   3.1s\n",
      "[CV 3/3] END ....................n_neighbors=35;, score=0.794 total time=   3.2s\n",
      "[CV 1/3] END ....................n_neighbors=37;, score=0.798 total time=   3.1s\n",
      "[CV 2/3] END ....................n_neighbors=37;, score=0.797 total time=   3.1s\n",
      "[CV 3/3] END ....................n_neighbors=37;, score=0.793 total time=   3.2s\n",
      "[CV 1/3] END ....................n_neighbors=39;, score=0.796 total time=   3.1s\n",
      "[CV 2/3] END ....................n_neighbors=39;, score=0.797 total time=   3.1s\n",
      "[CV 3/3] END ....................n_neighbors=39;, score=0.792 total time=   3.2s\n",
      "[CV 1/3] END ....................n_neighbors=41;, score=0.796 total time=   3.1s\n",
      "[CV 2/3] END ....................n_neighbors=41;, score=0.796 total time=   3.1s\n",
      "[CV 3/3] END ....................n_neighbors=41;, score=0.792 total time=   3.2s\n",
      "[CV 1/3] END ....................n_neighbors=43;, score=0.795 total time=   3.1s\n",
      "[CV 2/3] END ....................n_neighbors=43;, score=0.794 total time=   3.1s\n",
      "[CV 3/3] END ....................n_neighbors=43;, score=0.792 total time=   3.2s\n",
      "[CV 1/3] END ....................n_neighbors=45;, score=0.795 total time=   3.1s\n",
      "[CV 2/3] END ....................n_neighbors=45;, score=0.794 total time=   3.1s\n",
      "[CV 3/3] END ....................n_neighbors=45;, score=0.792 total time=   3.2s\n",
      "[CV 1/3] END ....................n_neighbors=47;, score=0.795 total time=   3.1s\n",
      "[CV 2/3] END ....................n_neighbors=47;, score=0.795 total time=   3.1s\n",
      "[CV 3/3] END ....................n_neighbors=47;, score=0.790 total time=   3.2s\n",
      "[CV 1/3] END ....................n_neighbors=49;, score=0.794 total time=   3.1s\n",
      "[CV 2/3] END ....................n_neighbors=49;, score=0.793 total time=   3.1s\n",
      "[CV 3/3] END ....................n_neighbors=49;, score=0.790 total time=   3.2s\n",
      "[CV 1/3] END ....................n_neighbors=51;, score=0.794 total time=   3.1s\n",
      "[CV 2/3] END ....................n_neighbors=51;, score=0.793 total time=   3.1s\n",
      "[CV 3/3] END ....................n_neighbors=51;, score=0.789 total time=   3.2s\n",
      "[CV 1/3] END ....................n_neighbors=53;, score=0.794 total time=   3.1s\n",
      "[CV 2/3] END ....................n_neighbors=53;, score=0.791 total time=   3.1s\n",
      "[CV 3/3] END ....................n_neighbors=53;, score=0.789 total time=   3.2s\n",
      "[CV 1/3] END ....................n_neighbors=55;, score=0.793 total time=   3.1s\n",
      "[CV 2/3] END ....................n_neighbors=55;, score=0.792 total time=   3.1s\n",
      "[CV 3/3] END ....................n_neighbors=55;, score=0.789 total time=   3.2s\n",
      "[CV 1/3] END ....................n_neighbors=57;, score=0.793 total time=   3.1s\n",
      "[CV 2/3] END ....................n_neighbors=57;, score=0.791 total time=   3.1s\n",
      "[CV 3/3] END ....................n_neighbors=57;, score=0.788 total time=   3.2s\n",
      "[CV 1/3] END ....................n_neighbors=59;, score=0.792 total time=   3.1s\n",
      "[CV 2/3] END ....................n_neighbors=59;, score=0.791 total time=   3.1s\n",
      "[CV 3/3] END ....................n_neighbors=59;, score=0.789 total time=   3.2s\n",
      "[CV 1/3] END ....................n_neighbors=61;, score=0.792 total time=   3.1s\n",
      "[CV 2/3] END ....................n_neighbors=61;, score=0.790 total time=   3.1s\n",
      "[CV 3/3] END ....................n_neighbors=61;, score=0.789 total time=   3.2s\n",
      "[CV 1/3] END ....................n_neighbors=63;, score=0.791 total time=   3.1s\n",
      "[CV 2/3] END ....................n_neighbors=63;, score=0.791 total time=   3.1s\n",
      "[CV 3/3] END ....................n_neighbors=63;, score=0.789 total time=   3.2s\n",
      "[CV 1/3] END ....................n_neighbors=65;, score=0.791 total time=   3.1s\n",
      "[CV 2/3] END ....................n_neighbors=65;, score=0.791 total time=   3.1s\n",
      "[CV 3/3] END ....................n_neighbors=65;, score=0.788 total time=   3.2s\n",
      "[CV 1/3] END ....................n_neighbors=67;, score=0.791 total time=   3.1s\n",
      "[CV 2/3] END ....................n_neighbors=67;, score=0.789 total time=   3.1s\n",
      "[CV 3/3] END ....................n_neighbors=67;, score=0.788 total time=   3.2s\n",
      "[CV 1/3] END ....................n_neighbors=69;, score=0.791 total time=   3.1s\n",
      "[CV 2/3] END ....................n_neighbors=69;, score=0.790 total time=   3.1s\n",
      "[CV 3/3] END ....................n_neighbors=69;, score=0.788 total time=   3.2s\n",
      "[CV 1/3] END ....................n_neighbors=71;, score=0.791 total time=   3.1s\n",
      "[CV 2/3] END ....................n_neighbors=71;, score=0.790 total time=   3.1s\n",
      "[CV 3/3] END ....................n_neighbors=71;, score=0.787 total time=   3.2s\n",
      "[CV 1/3] END ....................n_neighbors=73;, score=0.791 total time=   3.2s\n",
      "[CV 2/3] END ....................n_neighbors=73;, score=0.789 total time=   3.1s\n",
      "[CV 3/3] END ....................n_neighbors=73;, score=0.788 total time=   3.2s\n",
      "[CV 1/3] END ....................n_neighbors=75;, score=0.790 total time=   3.2s\n",
      "[CV 2/3] END ....................n_neighbors=75;, score=0.790 total time=   3.1s\n",
      "[CV 3/3] END ....................n_neighbors=75;, score=0.788 total time=   3.2s\n",
      "[CV 1/3] END ....................n_neighbors=77;, score=0.791 total time=   3.1s\n",
      "[CV 2/3] END ....................n_neighbors=77;, score=0.790 total time=   3.1s\n",
      "[CV 3/3] END ....................n_neighbors=77;, score=0.787 total time=   3.2s\n",
      "[CV 1/3] END ....................n_neighbors=79;, score=0.791 total time=   3.1s\n",
      "[CV 2/3] END ....................n_neighbors=79;, score=0.789 total time=   3.1s\n",
      "[CV 3/3] END ....................n_neighbors=79;, score=0.787 total time=   3.2s\n",
      "[CV 1/3] END ....................n_neighbors=81;, score=0.790 total time=   3.1s\n",
      "[CV 2/3] END ....................n_neighbors=81;, score=0.789 total time=   3.1s\n",
      "[CV 3/3] END ....................n_neighbors=81;, score=0.786 total time=   3.2s\n",
      "[CV 1/3] END ....................n_neighbors=83;, score=0.790 total time=   3.1s\n",
      "[CV 2/3] END ....................n_neighbors=83;, score=0.789 total time=   3.1s\n",
      "[CV 3/3] END ....................n_neighbors=83;, score=0.786 total time=   3.2s\n",
      "[CV 1/3] END ....................n_neighbors=85;, score=0.790 total time=   3.1s\n",
      "[CV 2/3] END ....................n_neighbors=85;, score=0.788 total time=   3.1s\n",
      "[CV 3/3] END ....................n_neighbors=85;, score=0.786 total time=   3.2s\n",
      "[CV 1/3] END ....................n_neighbors=87;, score=0.790 total time=   3.1s\n",
      "[CV 2/3] END ....................n_neighbors=87;, score=0.789 total time=   3.1s\n",
      "[CV 3/3] END ....................n_neighbors=87;, score=0.787 total time=   3.2s\n",
      "[CV 1/3] END ....................n_neighbors=89;, score=0.790 total time=   3.1s\n",
      "[CV 2/3] END ....................n_neighbors=89;, score=0.788 total time=   3.1s\n",
      "[CV 3/3] END ....................n_neighbors=89;, score=0.786 total time=   3.2s\n",
      "[CV 1/3] END ....................n_neighbors=91;, score=0.790 total time=   3.1s\n",
      "[CV 2/3] END ....................n_neighbors=91;, score=0.788 total time=   3.1s\n",
      "[CV 3/3] END ....................n_neighbors=91;, score=0.786 total time=   3.2s\n",
      "[CV 1/3] END ....................n_neighbors=93;, score=0.789 total time=   3.2s\n",
      "[CV 2/3] END ....................n_neighbors=93;, score=0.788 total time=   3.1s\n",
      "[CV 3/3] END ....................n_neighbors=93;, score=0.786 total time=   3.2s\n",
      "[CV 1/3] END ....................n_neighbors=95;, score=0.789 total time=   3.1s\n",
      "[CV 2/3] END ....................n_neighbors=95;, score=0.787 total time=   3.2s\n",
      "[CV 3/3] END ....................n_neighbors=95;, score=0.786 total time=   3.2s\n",
      "[CV 1/3] END ....................n_neighbors=97;, score=0.789 total time=   3.2s\n",
      "[CV 2/3] END ....................n_neighbors=97;, score=0.787 total time=   3.1s\n",
      "[CV 3/3] END ....................n_neighbors=97;, score=0.787 total time=   3.2s\n",
      "[CV 1/3] END ....................n_neighbors=99;, score=0.788 total time=   3.2s\n",
      "[CV 2/3] END ....................n_neighbors=99;, score=0.787 total time=   3.1s\n",
      "[CV 3/3] END ....................n_neighbors=99;, score=0.786 total time=   3.2s\n",
      "[CV 1/3] END ...................n_neighbors=101;, score=0.788 total time=   3.2s\n",
      "[CV 2/3] END ...................n_neighbors=101;, score=0.787 total time=   3.2s\n",
      "[CV 3/3] END ...................n_neighbors=101;, score=0.786 total time=   3.2s\n",
      "[CV 1/3] END ...................n_neighbors=103;, score=0.787 total time=   3.2s\n",
      "[CV 2/3] END ...................n_neighbors=103;, score=0.787 total time=   3.2s\n",
      "[CV 3/3] END ...................n_neighbors=103;, score=0.786 total time=   3.2s\n",
      "[CV 1/3] END ...................n_neighbors=105;, score=0.787 total time=   3.2s\n",
      "[CV 2/3] END ...................n_neighbors=105;, score=0.787 total time=   3.2s\n",
      "[CV 3/3] END ...................n_neighbors=105;, score=0.786 total time=   3.2s\n",
      "[CV 1/3] END ...................n_neighbors=107;, score=0.787 total time=   3.2s\n",
      "[CV 2/3] END ...................n_neighbors=107;, score=0.787 total time=   3.1s\n",
      "[CV 3/3] END ...................n_neighbors=107;, score=0.786 total time=   3.2s\n",
      "[CV 1/3] END ...................n_neighbors=109;, score=0.787 total time=   3.2s\n",
      "[CV 2/3] END ...................n_neighbors=109;, score=0.787 total time=   3.2s\n",
      "[CV 3/3] END ...................n_neighbors=109;, score=0.786 total time=   3.2s\n",
      "[CV 1/3] END ...................n_neighbors=111;, score=0.787 total time=   3.2s\n",
      "[CV 2/3] END ...................n_neighbors=111;, score=0.787 total time=   3.2s\n",
      "[CV 3/3] END ...................n_neighbors=111;, score=0.787 total time=   3.2s\n",
      "[CV 1/3] END ...................n_neighbors=113;, score=0.787 total time=   3.2s\n",
      "[CV 2/3] END ...................n_neighbors=113;, score=0.787 total time=   3.2s\n",
      "[CV 3/3] END ...................n_neighbors=113;, score=0.787 total time=   3.2s\n",
      "[CV 1/3] END ...................n_neighbors=115;, score=0.787 total time=   3.2s\n",
      "[CV 2/3] END ...................n_neighbors=115;, score=0.786 total time=   3.2s\n",
      "[CV 3/3] END ...................n_neighbors=115;, score=0.786 total time=   3.2s\n",
      "[CV 1/3] END ...................n_neighbors=117;, score=0.787 total time=   3.2s\n",
      "[CV 2/3] END ...................n_neighbors=117;, score=0.786 total time=   3.2s\n",
      "[CV 3/3] END ...................n_neighbors=117;, score=0.786 total time=   3.2s\n",
      "[CV 1/3] END ...................n_neighbors=119;, score=0.786 total time=   3.2s\n",
      "[CV 2/3] END ...................n_neighbors=119;, score=0.786 total time=   3.2s\n",
      "[CV 3/3] END ...................n_neighbors=119;, score=0.786 total time=   3.2s\n",
      "[CV 1/3] END ...................n_neighbors=121;, score=0.786 total time=   3.2s\n",
      "[CV 2/3] END ...................n_neighbors=121;, score=0.786 total time=   3.2s\n",
      "[CV 3/3] END ...................n_neighbors=121;, score=0.786 total time=   3.3s\n",
      "[CV 1/3] END ...................n_neighbors=123;, score=0.786 total time=   3.2s\n",
      "[CV 2/3] END ...................n_neighbors=123;, score=0.785 total time=   3.2s\n",
      "[CV 3/3] END ...................n_neighbors=123;, score=0.786 total time=   3.2s\n",
      "[CV 1/3] END ...................n_neighbors=125;, score=0.786 total time=   3.2s\n",
      "[CV 2/3] END ...................n_neighbors=125;, score=0.786 total time=   3.2s\n",
      "[CV 3/3] END ...................n_neighbors=125;, score=0.785 total time=   3.2s\n",
      "[CV 1/3] END ...................n_neighbors=127;, score=0.786 total time=   3.2s\n",
      "[CV 2/3] END ...................n_neighbors=127;, score=0.785 total time=   3.2s\n",
      "[CV 3/3] END ...................n_neighbors=127;, score=0.785 total time=   3.2s\n",
      "[CV 1/3] END ...................n_neighbors=129;, score=0.786 total time=   3.2s\n",
      "[CV 2/3] END ...................n_neighbors=129;, score=0.785 total time=   3.2s\n",
      "[CV 3/3] END ...................n_neighbors=129;, score=0.786 total time=   3.2s\n",
      "[CV 1/3] END ...................n_neighbors=131;, score=0.786 total time=   3.3s\n",
      "[CV 2/3] END ...................n_neighbors=131;, score=0.786 total time=   3.5s\n",
      "[CV 3/3] END ...................n_neighbors=131;, score=0.785 total time=   4.9s\n",
      "[CV 1/3] END ...................n_neighbors=133;, score=0.786 total time=   3.8s\n",
      "[CV 2/3] END ...................n_neighbors=133;, score=0.785 total time=   3.3s\n",
      "[CV 3/3] END ...................n_neighbors=133;, score=0.786 total time=   3.3s\n",
      "[CV 1/3] END ...................n_neighbors=135;, score=0.786 total time=   3.3s\n",
      "[CV 2/3] END ...................n_neighbors=135;, score=0.785 total time=   3.3s\n",
      "[CV 3/3] END ...................n_neighbors=135;, score=0.785 total time=   3.3s\n",
      "[CV 1/3] END ...................n_neighbors=137;, score=0.786 total time=   3.3s\n",
      "[CV 2/3] END ...................n_neighbors=137;, score=0.785 total time=   3.3s\n",
      "[CV 3/3] END ...................n_neighbors=137;, score=0.785 total time=   3.4s\n",
      "[CV 1/3] END ...................n_neighbors=139;, score=0.786 total time=   3.3s\n",
      "[CV 2/3] END ...................n_neighbors=139;, score=0.785 total time=   3.3s\n",
      "[CV 3/3] END ...................n_neighbors=139;, score=0.785 total time=   3.4s\n",
      "[CV 1/3] END ...................n_neighbors=141;, score=0.786 total time=   3.3s\n",
      "[CV 2/3] END ...................n_neighbors=141;, score=0.785 total time=   3.3s\n",
      "[CV 3/3] END ...................n_neighbors=141;, score=0.785 total time=   3.3s\n",
      "[CV 1/3] END ...................n_neighbors=143;, score=0.786 total time=   3.3s\n",
      "[CV 2/3] END ...................n_neighbors=143;, score=0.785 total time=   3.3s\n",
      "[CV 3/3] END ...................n_neighbors=143;, score=0.785 total time=   3.4s\n",
      "[CV 1/3] END ...................n_neighbors=145;, score=0.786 total time=   3.3s\n",
      "[CV 2/3] END ...................n_neighbors=145;, score=0.785 total time=   3.3s\n",
      "[CV 3/3] END ...................n_neighbors=145;, score=0.785 total time=   3.4s\n",
      "[CV 1/3] END ...................n_neighbors=147;, score=0.786 total time=   3.3s\n",
      "[CV 2/3] END ...................n_neighbors=147;, score=0.785 total time=   3.3s\n",
      "[CV 3/3] END ...................n_neighbors=147;, score=0.785 total time=   3.4s\n",
      "[CV 1/3] END ...................n_neighbors=149;, score=0.786 total time=   3.3s\n",
      "[CV 2/3] END ...................n_neighbors=149;, score=0.785 total time=   3.3s\n",
      "[CV 3/3] END ...................n_neighbors=149;, score=0.785 total time=   3.4s\n",
      "[CV 1/3] END ...................n_neighbors=151;, score=0.786 total time=   3.3s\n",
      "[CV 2/3] END ...................n_neighbors=151;, score=0.785 total time=   3.3s\n",
      "[CV 3/3] END ...................n_neighbors=151;, score=0.785 total time=   3.4s\n",
      "[CV 1/3] END ...................n_neighbors=153;, score=0.786 total time=   3.3s\n",
      "[CV 2/3] END ...................n_neighbors=153;, score=0.784 total time=   3.3s\n",
      "[CV 3/3] END ...................n_neighbors=153;, score=0.785 total time=   3.4s\n",
      "[CV 1/3] END ...................n_neighbors=155;, score=0.785 total time=   3.3s\n",
      "[CV 2/3] END ...................n_neighbors=155;, score=0.784 total time=   3.3s\n",
      "[CV 3/3] END ...................n_neighbors=155;, score=0.785 total time=   3.4s\n",
      "[CV 1/3] END ...................n_neighbors=157;, score=0.785 total time=   3.3s\n",
      "[CV 2/3] END ...................n_neighbors=157;, score=0.784 total time=   3.3s\n",
      "[CV 3/3] END ...................n_neighbors=157;, score=0.785 total time=   3.4s\n",
      "[CV 1/3] END ...................n_neighbors=159;, score=0.786 total time=   3.3s\n",
      "[CV 2/3] END ...................n_neighbors=159;, score=0.784 total time=   3.3s\n",
      "[CV 3/3] END ...................n_neighbors=159;, score=0.785 total time=   3.4s\n",
      "[CV 1/3] END ...................n_neighbors=161;, score=0.786 total time=   3.3s\n",
      "[CV 2/3] END ...................n_neighbors=161;, score=0.784 total time=   3.3s\n",
      "[CV 3/3] END ...................n_neighbors=161;, score=0.785 total time=   3.4s\n",
      "[CV 1/3] END ...................n_neighbors=163;, score=0.786 total time=   3.3s\n",
      "[CV 2/3] END ...................n_neighbors=163;, score=0.784 total time=   3.3s\n",
      "[CV 3/3] END ...................n_neighbors=163;, score=0.785 total time=   3.4s\n",
      "[CV 1/3] END ...................n_neighbors=165;, score=0.786 total time=   3.3s\n",
      "[CV 2/3] END ...................n_neighbors=165;, score=0.784 total time=   3.3s\n",
      "[CV 3/3] END ...................n_neighbors=165;, score=0.785 total time=   3.4s\n",
      "[CV 1/3] END ...................n_neighbors=167;, score=0.785 total time=   3.3s\n",
      "[CV 2/3] END ...................n_neighbors=167;, score=0.784 total time=   3.3s\n",
      "[CV 3/3] END ...................n_neighbors=167;, score=0.784 total time=   3.4s\n",
      "[CV 1/3] END ...................n_neighbors=169;, score=0.784 total time=   3.3s\n",
      "[CV 2/3] END ...................n_neighbors=169;, score=0.784 total time=   3.3s\n",
      "[CV 3/3] END ...................n_neighbors=169;, score=0.785 total time=   3.5s\n",
      "[CV 1/3] END ...................n_neighbors=171;, score=0.784 total time=   3.3s\n",
      "[CV 2/3] END ...................n_neighbors=171;, score=0.784 total time=   3.3s\n",
      "[CV 3/3] END ...................n_neighbors=171;, score=0.785 total time=   3.4s\n",
      "[CV 1/3] END ...................n_neighbors=173;, score=0.785 total time=   3.3s\n",
      "[CV 2/3] END ...................n_neighbors=173;, score=0.784 total time=   3.3s\n",
      "[CV 3/3] END ...................n_neighbors=173;, score=0.785 total time=   3.4s\n",
      "[CV 1/3] END ...................n_neighbors=175;, score=0.785 total time=   3.3s\n",
      "[CV 2/3] END ...................n_neighbors=175;, score=0.784 total time=   3.3s\n",
      "[CV 3/3] END ...................n_neighbors=175;, score=0.785 total time=   3.4s\n",
      "[CV 1/3] END ...................n_neighbors=177;, score=0.785 total time=   3.3s\n",
      "[CV 2/3] END ...................n_neighbors=177;, score=0.784 total time=   3.3s\n",
      "[CV 3/3] END ...................n_neighbors=177;, score=0.785 total time=   4.0s\n",
      "[CV 1/3] END ...................n_neighbors=179;, score=0.784 total time=   3.4s\n",
      "[CV 2/3] END ...................n_neighbors=179;, score=0.783 total time=   3.3s\n",
      "[CV 3/3] END ...................n_neighbors=179;, score=0.785 total time=   3.4s\n",
      "[CV 1/3] END ...................n_neighbors=181;, score=0.785 total time=   3.3s\n",
      "[CV 2/3] END ...................n_neighbors=181;, score=0.783 total time=   3.3s\n",
      "[CV 3/3] END ...................n_neighbors=181;, score=0.784 total time=   3.4s\n",
      "[CV 1/3] END ...................n_neighbors=183;, score=0.784 total time=   3.3s\n",
      "[CV 2/3] END ...................n_neighbors=183;, score=0.784 total time=   3.3s\n",
      "[CV 3/3] END ...................n_neighbors=183;, score=0.784 total time=   3.4s\n",
      "[CV 1/3] END ...................n_neighbors=185;, score=0.785 total time=   3.3s\n",
      "[CV 2/3] END ...................n_neighbors=185;, score=0.784 total time=   3.3s\n",
      "[CV 3/3] END ...................n_neighbors=185;, score=0.784 total time=   3.4s\n",
      "[CV 1/3] END ...................n_neighbors=187;, score=0.785 total time=   3.3s\n",
      "[CV 2/3] END ...................n_neighbors=187;, score=0.783 total time=   3.3s\n",
      "[CV 3/3] END ...................n_neighbors=187;, score=0.784 total time=   3.4s\n",
      "[CV 1/3] END ...................n_neighbors=189;, score=0.785 total time=   3.3s\n",
      "[CV 2/3] END ...................n_neighbors=189;, score=0.783 total time=   3.3s\n",
      "[CV 3/3] END ...................n_neighbors=189;, score=0.784 total time=   3.4s\n",
      "[CV 1/3] END ...................n_neighbors=191;, score=0.785 total time=   3.3s\n",
      "[CV 2/3] END ...................n_neighbors=191;, score=0.783 total time=   3.3s\n",
      "[CV 3/3] END ...................n_neighbors=191;, score=0.784 total time=   3.4s\n",
      "[CV 1/3] END ...................n_neighbors=193;, score=0.785 total time=   3.4s\n",
      "[CV 2/3] END ...................n_neighbors=193;, score=0.783 total time=   3.3s\n",
      "[CV 3/3] END ...................n_neighbors=193;, score=0.784 total time=   3.4s\n",
      "[CV 1/3] END ...................n_neighbors=195;, score=0.785 total time=   3.3s\n",
      "[CV 2/3] END ...................n_neighbors=195;, score=0.783 total time=   3.3s\n",
      "[CV 3/3] END ...................n_neighbors=195;, score=0.784 total time=   3.4s\n",
      "[CV 1/3] END ...................n_neighbors=197;, score=0.785 total time=   3.4s\n",
      "[CV 2/3] END ...................n_neighbors=197;, score=0.783 total time=   3.3s\n",
      "[CV 3/3] END ...................n_neighbors=197;, score=0.783 total time=   3.4s\n",
      "[CV 1/3] END ...................n_neighbors=199;, score=0.785 total time=   3.3s\n",
      "[CV 2/3] END ...................n_neighbors=199;, score=0.783 total time=   3.3s\n",
      "[CV 3/3] END ...................n_neighbors=199;, score=0.783 total time=   3.4s\n",
      "0.8294782140935987\n"
     ]
    }
   ],
   "source": [
    "# KNN with GridSearch\n",
    "train_X, test_X, train_Y, test_Y = train_test_split(X,Y,test_size=0.15)\n",
    "sc=StandardScaler()\n",
    "lst= range(1,200,2)\n",
    "params3 = {'n_neighbors': lst}\n",
    "grid = GridSearchCV(KNeighborsClassifier(), params3, cv=3, scoring='accuracy',verbose=3)\n",
    "grid.fit(train_X,train_Y)\n",
    "grid.best_params_\n",
    "pred_y = grid.predict(test_X)\n",
    "print(metrics.accuracy_score(pred_y,test_Y))"
   ]
  },
  {
   "cell_type": "code",
   "execution_count": null,
   "metadata": {
    "colab": {
     "base_uri": "https://localhost:8080/"
    },
    "id": "jqTKVe4riqK5",
    "outputId": "ae95e12a-1ee6-4a33-adba-4f07eff24f2e"
   },
   "outputs": [
    {
     "name": "stdout",
     "output_type": "stream",
     "text": [
      "Fitting 3 folds for each of 48 candidates, totalling 144 fits\n",
      "[CV 1/3] END activation=identity, hidden_layer_sizes=4, solver=lbfgs;, score=0.888 total time=   5.7s\n",
      "[CV 2/3] END activation=identity, hidden_layer_sizes=4, solver=lbfgs;, score=0.884 total time=   5.8s\n",
      "[CV 3/3] END activation=identity, hidden_layer_sizes=4, solver=lbfgs;, score=0.880 total time=   9.2s\n"
     ]
    },
    {
     "name": "stderr",
     "output_type": "stream",
     "text": [
      "/usr/local/lib/python3.7/dist-packages/sklearn/neural_network/_multilayer_perceptron.py:696: ConvergenceWarning: Stochastic Optimizer: Maximum iterations (200) reached and the optimization hasn't converged yet.\n",
      "  ConvergenceWarning,\n"
     ]
    },
    {
     "name": "stdout",
     "output_type": "stream",
     "text": [
      "[CV 1/3] END activation=identity, hidden_layer_sizes=4, solver=sgd;, score=0.851 total time=  48.7s\n"
     ]
    },
    {
     "name": "stderr",
     "output_type": "stream",
     "text": [
      "/usr/local/lib/python3.7/dist-packages/sklearn/neural_network/_multilayer_perceptron.py:696: ConvergenceWarning: Stochastic Optimizer: Maximum iterations (200) reached and the optimization hasn't converged yet.\n",
      "  ConvergenceWarning,\n"
     ]
    },
    {
     "name": "stdout",
     "output_type": "stream",
     "text": [
      "[CV 2/3] END activation=identity, hidden_layer_sizes=4, solver=sgd;, score=0.846 total time=  51.7s\n"
     ]
    },
    {
     "name": "stderr",
     "output_type": "stream",
     "text": [
      "/usr/local/lib/python3.7/dist-packages/sklearn/neural_network/_multilayer_perceptron.py:696: ConvergenceWarning: Stochastic Optimizer: Maximum iterations (200) reached and the optimization hasn't converged yet.\n",
      "  ConvergenceWarning,\n"
     ]
    },
    {
     "name": "stdout",
     "output_type": "stream",
     "text": [
      "[CV 3/3] END activation=identity, hidden_layer_sizes=4, solver=sgd;, score=0.835 total time=  49.6s\n",
      "[CV 1/3] END activation=identity, hidden_layer_sizes=4, solver=adam;, score=0.859 total time=  36.4s\n",
      "[CV 2/3] END activation=identity, hidden_layer_sizes=4, solver=adam;, score=0.847 total time=  35.9s\n",
      "[CV 3/3] END activation=identity, hidden_layer_sizes=4, solver=adam;, score=0.846 total time=  40.8s\n",
      "[CV 1/3] END activation=identity, hidden_layer_sizes=(5,), solver=lbfgs;, score=0.883 total time=   9.2s\n",
      "[CV 2/3] END activation=identity, hidden_layer_sizes=(5,), solver=lbfgs;, score=0.872 total time=   9.6s\n",
      "[CV 3/3] END activation=identity, hidden_layer_sizes=(5,), solver=lbfgs;, score=0.881 total time=   6.2s\n"
     ]
    },
    {
     "name": "stderr",
     "output_type": "stream",
     "text": [
      "/usr/local/lib/python3.7/dist-packages/sklearn/neural_network/_multilayer_perceptron.py:696: ConvergenceWarning: Stochastic Optimizer: Maximum iterations (200) reached and the optimization hasn't converged yet.\n",
      "  ConvergenceWarning,\n"
     ]
    },
    {
     "name": "stdout",
     "output_type": "stream",
     "text": [
      "[CV 1/3] END activation=identity, hidden_layer_sizes=(5,), solver=sgd;, score=0.831 total time=  56.0s\n"
     ]
    },
    {
     "name": "stderr",
     "output_type": "stream",
     "text": [
      "/usr/local/lib/python3.7/dist-packages/sklearn/neural_network/_multilayer_perceptron.py:696: ConvergenceWarning: Stochastic Optimizer: Maximum iterations (200) reached and the optimization hasn't converged yet.\n",
      "  ConvergenceWarning,\n"
     ]
    },
    {
     "name": "stdout",
     "output_type": "stream",
     "text": [
      "[CV 2/3] END activation=identity, hidden_layer_sizes=(5,), solver=sgd;, score=0.841 total time=  55.8s\n"
     ]
    },
    {
     "name": "stderr",
     "output_type": "stream",
     "text": [
      "/usr/local/lib/python3.7/dist-packages/sklearn/neural_network/_multilayer_perceptron.py:696: ConvergenceWarning: Stochastic Optimizer: Maximum iterations (200) reached and the optimization hasn't converged yet.\n",
      "  ConvergenceWarning,\n"
     ]
    },
    {
     "name": "stdout",
     "output_type": "stream",
     "text": [
      "[CV 3/3] END activation=identity, hidden_layer_sizes=(5,), solver=sgd;, score=0.780 total time=  56.1s\n",
      "[CV 1/3] END activation=identity, hidden_layer_sizes=(5,), solver=adam;, score=0.861 total time=  39.4s\n",
      "[CV 2/3] END activation=identity, hidden_layer_sizes=(5,), solver=adam;, score=0.849 total time=  44.7s\n",
      "[CV 3/3] END activation=identity, hidden_layer_sizes=(5,), solver=adam;, score=0.852 total time=  47.0s\n",
      "[CV 1/3] END activation=identity, hidden_layer_sizes=(6,), solver=lbfgs;, score=0.886 total time=   7.9s\n",
      "[CV 2/3] END activation=identity, hidden_layer_sizes=(6,), solver=lbfgs;, score=0.881 total time=   5.9s\n",
      "[CV 3/3] END activation=identity, hidden_layer_sizes=(6,), solver=lbfgs;, score=0.865 total time=   9.5s\n"
     ]
    },
    {
     "name": "stderr",
     "output_type": "stream",
     "text": [
      "/usr/local/lib/python3.7/dist-packages/sklearn/neural_network/_multilayer_perceptron.py:696: ConvergenceWarning: Stochastic Optimizer: Maximum iterations (200) reached and the optimization hasn't converged yet.\n",
      "  ConvergenceWarning,\n"
     ]
    },
    {
     "name": "stdout",
     "output_type": "stream",
     "text": [
      "[CV 1/3] END activation=identity, hidden_layer_sizes=(6,), solver=sgd;, score=0.836 total time= 1.1min\n"
     ]
    },
    {
     "name": "stderr",
     "output_type": "stream",
     "text": [
      "/usr/local/lib/python3.7/dist-packages/sklearn/neural_network/_multilayer_perceptron.py:696: ConvergenceWarning: Stochastic Optimizer: Maximum iterations (200) reached and the optimization hasn't converged yet.\n",
      "  ConvergenceWarning,\n"
     ]
    },
    {
     "name": "stdout",
     "output_type": "stream",
     "text": [
      "[CV 2/3] END activation=identity, hidden_layer_sizes=(6,), solver=sgd;, score=0.840 total time= 1.1min\n"
     ]
    },
    {
     "name": "stderr",
     "output_type": "stream",
     "text": [
      "/usr/local/lib/python3.7/dist-packages/sklearn/neural_network/_multilayer_perceptron.py:696: ConvergenceWarning: Stochastic Optimizer: Maximum iterations (200) reached and the optimization hasn't converged yet.\n",
      "  ConvergenceWarning,\n"
     ]
    },
    {
     "name": "stdout",
     "output_type": "stream",
     "text": [
      "[CV 3/3] END activation=identity, hidden_layer_sizes=(6,), solver=sgd;, score=0.837 total time= 1.1min\n",
      "[CV 1/3] END activation=identity, hidden_layer_sizes=(6,), solver=adam;, score=0.850 total time=  49.4s\n",
      "[CV 2/3] END activation=identity, hidden_layer_sizes=(6,), solver=adam;, score=0.850 total time=  49.2s\n",
      "[CV 3/3] END activation=identity, hidden_layer_sizes=(6,), solver=adam;, score=0.845 total time=  50.1s\n",
      "[CV 1/3] END activation=identity, hidden_layer_sizes=(7,), solver=lbfgs;, score=0.871 total time=   9.0s\n",
      "[CV 2/3] END activation=identity, hidden_layer_sizes=(7,), solver=lbfgs;, score=0.880 total time=   7.6s\n",
      "[CV 3/3] END activation=identity, hidden_layer_sizes=(7,), solver=lbfgs;, score=0.869 total time=   8.2s\n"
     ]
    },
    {
     "name": "stderr",
     "output_type": "stream",
     "text": [
      "/usr/local/lib/python3.7/dist-packages/sklearn/neural_network/_multilayer_perceptron.py:696: ConvergenceWarning: Stochastic Optimizer: Maximum iterations (200) reached and the optimization hasn't converged yet.\n",
      "  ConvergenceWarning,\n"
     ]
    },
    {
     "name": "stdout",
     "output_type": "stream",
     "text": [
      "[CV 1/3] END activation=identity, hidden_layer_sizes=(7,), solver=sgd;, score=0.846 total time= 1.3min\n"
     ]
    },
    {
     "name": "stderr",
     "output_type": "stream",
     "text": [
      "/usr/local/lib/python3.7/dist-packages/sklearn/neural_network/_multilayer_perceptron.py:696: ConvergenceWarning: Stochastic Optimizer: Maximum iterations (200) reached and the optimization hasn't converged yet.\n",
      "  ConvergenceWarning,\n"
     ]
    },
    {
     "name": "stdout",
     "output_type": "stream",
     "text": [
      "[CV 2/3] END activation=identity, hidden_layer_sizes=(7,), solver=sgd;, score=0.851 total time= 1.3min\n"
     ]
    },
    {
     "name": "stderr",
     "output_type": "stream",
     "text": [
      "/usr/local/lib/python3.7/dist-packages/sklearn/neural_network/_multilayer_perceptron.py:696: ConvergenceWarning: Stochastic Optimizer: Maximum iterations (200) reached and the optimization hasn't converged yet.\n",
      "  ConvergenceWarning,\n"
     ]
    },
    {
     "name": "stdout",
     "output_type": "stream",
     "text": [
      "[CV 3/3] END activation=identity, hidden_layer_sizes=(7,), solver=sgd;, score=0.853 total time= 1.3min\n",
      "[CV 1/3] END activation=identity, hidden_layer_sizes=(7,), solver=adam;, score=0.859 total time=  50.4s\n",
      "[CV 2/3] END activation=identity, hidden_layer_sizes=(7,), solver=adam;, score=0.848 total time=  49.4s\n",
      "[CV 3/3] END activation=identity, hidden_layer_sizes=(7,), solver=adam;, score=0.842 total time=  56.4s\n",
      "[CV 1/3] END activation=logistic, hidden_layer_sizes=4, solver=lbfgs;, score=0.881 total time=   6.5s\n",
      "[CV 2/3] END activation=logistic, hidden_layer_sizes=4, solver=lbfgs;, score=0.887 total time=   6.0s\n",
      "[CV 3/3] END activation=logistic, hidden_layer_sizes=4, solver=lbfgs;, score=0.883 total time=   6.6s\n",
      "[CV 1/3] END activation=logistic, hidden_layer_sizes=4, solver=sgd;, score=0.773 total time=   6.8s\n",
      "[CV 2/3] END activation=logistic, hidden_layer_sizes=4, solver=sgd;, score=0.773 total time=   7.2s\n",
      "[CV 3/3] END activation=logistic, hidden_layer_sizes=4, solver=sgd;, score=0.773 total time=   7.3s\n"
     ]
    },
    {
     "name": "stderr",
     "output_type": "stream",
     "text": [
      "/usr/local/lib/python3.7/dist-packages/sklearn/neural_network/_multilayer_perceptron.py:696: ConvergenceWarning: Stochastic Optimizer: Maximum iterations (200) reached and the optimization hasn't converged yet.\n",
      "  ConvergenceWarning,\n"
     ]
    },
    {
     "name": "stdout",
     "output_type": "stream",
     "text": [
      "[CV 1/3] END activation=logistic, hidden_layer_sizes=4, solver=adam;, score=0.860 total time= 1.2min\n"
     ]
    },
    {
     "name": "stderr",
     "output_type": "stream",
     "text": [
      "/usr/local/lib/python3.7/dist-packages/sklearn/neural_network/_multilayer_perceptron.py:696: ConvergenceWarning: Stochastic Optimizer: Maximum iterations (200) reached and the optimization hasn't converged yet.\n",
      "  ConvergenceWarning,\n"
     ]
    },
    {
     "name": "stdout",
     "output_type": "stream",
     "text": [
      "[CV 2/3] END activation=logistic, hidden_layer_sizes=4, solver=adam;, score=0.865 total time= 1.2min\n"
     ]
    },
    {
     "name": "stderr",
     "output_type": "stream",
     "text": [
      "/usr/local/lib/python3.7/dist-packages/sklearn/neural_network/_multilayer_perceptron.py:696: ConvergenceWarning: Stochastic Optimizer: Maximum iterations (200) reached and the optimization hasn't converged yet.\n",
      "  ConvergenceWarning,\n"
     ]
    },
    {
     "name": "stdout",
     "output_type": "stream",
     "text": [
      "[CV 3/3] END activation=logistic, hidden_layer_sizes=4, solver=adam;, score=0.865 total time= 1.2min\n",
      "[CV 1/3] END activation=logistic, hidden_layer_sizes=(5,), solver=lbfgs;, score=0.876 total time=  17.8s\n",
      "[CV 2/3] END activation=logistic, hidden_layer_sizes=(5,), solver=lbfgs;, score=0.883 total time=   6.9s\n",
      "[CV 3/3] END activation=logistic, hidden_layer_sizes=(5,), solver=lbfgs;, score=0.875 total time=   8.9s\n",
      "[CV 1/3] END activation=logistic, hidden_layer_sizes=(5,), solver=sgd;, score=0.773 total time=   8.5s\n",
      "[CV 2/3] END activation=logistic, hidden_layer_sizes=(5,), solver=sgd;, score=0.773 total time=   8.5s\n",
      "[CV 3/3] END activation=logistic, hidden_layer_sizes=(5,), solver=sgd;, score=0.773 total time=   7.6s\n"
     ]
    },
    {
     "name": "stderr",
     "output_type": "stream",
     "text": [
      "/usr/local/lib/python3.7/dist-packages/sklearn/neural_network/_multilayer_perceptron.py:696: ConvergenceWarning: Stochastic Optimizer: Maximum iterations (200) reached and the optimization hasn't converged yet.\n",
      "  ConvergenceWarning,\n"
     ]
    },
    {
     "name": "stdout",
     "output_type": "stream",
     "text": [
      "[CV 1/3] END activation=logistic, hidden_layer_sizes=(5,), solver=adam;, score=0.868 total time= 1.5min\n"
     ]
    },
    {
     "name": "stderr",
     "output_type": "stream",
     "text": [
      "/usr/local/lib/python3.7/dist-packages/sklearn/neural_network/_multilayer_perceptron.py:696: ConvergenceWarning: Stochastic Optimizer: Maximum iterations (200) reached and the optimization hasn't converged yet.\n",
      "  ConvergenceWarning,\n"
     ]
    },
    {
     "name": "stdout",
     "output_type": "stream",
     "text": [
      "[CV 2/3] END activation=logistic, hidden_layer_sizes=(5,), solver=adam;, score=0.863 total time= 1.5min\n"
     ]
    },
    {
     "name": "stderr",
     "output_type": "stream",
     "text": [
      "/usr/local/lib/python3.7/dist-packages/sklearn/neural_network/_multilayer_perceptron.py:696: ConvergenceWarning: Stochastic Optimizer: Maximum iterations (200) reached and the optimization hasn't converged yet.\n",
      "  ConvergenceWarning,\n"
     ]
    },
    {
     "name": "stdout",
     "output_type": "stream",
     "text": [
      "[CV 3/3] END activation=logistic, hidden_layer_sizes=(5,), solver=adam;, score=0.865 total time= 1.5min\n",
      "[CV 1/3] END activation=logistic, hidden_layer_sizes=(6,), solver=lbfgs;, score=0.882 total time=   7.1s\n",
      "[CV 2/3] END activation=logistic, hidden_layer_sizes=(6,), solver=lbfgs;, score=0.887 total time=   8.9s\n",
      "[CV 3/3] END activation=logistic, hidden_layer_sizes=(6,), solver=lbfgs;, score=0.884 total time=   7.6s\n",
      "[CV 1/3] END activation=logistic, hidden_layer_sizes=(6,), solver=sgd;, score=0.773 total time=   8.8s\n",
      "[CV 2/3] END activation=logistic, hidden_layer_sizes=(6,), solver=sgd;, score=0.773 total time=   8.5s\n",
      "[CV 3/3] END activation=logistic, hidden_layer_sizes=(6,), solver=sgd;, score=0.773 total time=   8.7s\n"
     ]
    },
    {
     "name": "stderr",
     "output_type": "stream",
     "text": [
      "/usr/local/lib/python3.7/dist-packages/sklearn/neural_network/_multilayer_perceptron.py:696: ConvergenceWarning: Stochastic Optimizer: Maximum iterations (200) reached and the optimization hasn't converged yet.\n",
      "  ConvergenceWarning,\n"
     ]
    },
    {
     "name": "stdout",
     "output_type": "stream",
     "text": [
      "[CV 1/3] END activation=logistic, hidden_layer_sizes=(6,), solver=adam;, score=0.872 total time= 1.6min\n"
     ]
    },
    {
     "name": "stderr",
     "output_type": "stream",
     "text": [
      "/usr/local/lib/python3.7/dist-packages/sklearn/neural_network/_multilayer_perceptron.py:696: ConvergenceWarning: Stochastic Optimizer: Maximum iterations (200) reached and the optimization hasn't converged yet.\n",
      "  ConvergenceWarning,\n"
     ]
    },
    {
     "name": "stdout",
     "output_type": "stream",
     "text": [
      "[CV 2/3] END activation=logistic, hidden_layer_sizes=(6,), solver=adam;, score=0.863 total time= 1.6min\n"
     ]
    },
    {
     "name": "stderr",
     "output_type": "stream",
     "text": [
      "/usr/local/lib/python3.7/dist-packages/sklearn/neural_network/_multilayer_perceptron.py:696: ConvergenceWarning: Stochastic Optimizer: Maximum iterations (200) reached and the optimization hasn't converged yet.\n",
      "  ConvergenceWarning,\n"
     ]
    },
    {
     "name": "stdout",
     "output_type": "stream",
     "text": [
      "[CV 3/3] END activation=logistic, hidden_layer_sizes=(6,), solver=adam;, score=0.865 total time= 1.6min\n",
      "[CV 1/3] END activation=logistic, hidden_layer_sizes=(7,), solver=lbfgs;, score=0.882 total time=   8.0s\n",
      "[CV 2/3] END activation=logistic, hidden_layer_sizes=(7,), solver=lbfgs;, score=0.882 total time=   8.2s\n",
      "[CV 3/3] END activation=logistic, hidden_layer_sizes=(7,), solver=lbfgs;, score=0.884 total time=   8.4s\n",
      "[CV 1/3] END activation=logistic, hidden_layer_sizes=(7,), solver=sgd;, score=0.773 total time=   9.4s\n",
      "[CV 2/3] END activation=logistic, hidden_layer_sizes=(7,), solver=sgd;, score=0.773 total time=   9.1s\n",
      "[CV 3/3] END activation=logistic, hidden_layer_sizes=(7,), solver=sgd;, score=0.773 total time=   8.4s\n",
      "[CV 1/3] END activation=logistic, hidden_layer_sizes=(7,), solver=adam;, score=0.869 total time= 1.8min\n"
     ]
    },
    {
     "name": "stderr",
     "output_type": "stream",
     "text": [
      "/usr/local/lib/python3.7/dist-packages/sklearn/neural_network/_multilayer_perceptron.py:696: ConvergenceWarning: Stochastic Optimizer: Maximum iterations (200) reached and the optimization hasn't converged yet.\n",
      "  ConvergenceWarning,\n"
     ]
    },
    {
     "name": "stdout",
     "output_type": "stream",
     "text": [
      "[CV 2/3] END activation=logistic, hidden_layer_sizes=(7,), solver=adam;, score=0.859 total time= 1.9min\n"
     ]
    },
    {
     "name": "stderr",
     "output_type": "stream",
     "text": [
      "/usr/local/lib/python3.7/dist-packages/sklearn/neural_network/_multilayer_perceptron.py:696: ConvergenceWarning: Stochastic Optimizer: Maximum iterations (200) reached and the optimization hasn't converged yet.\n",
      "  ConvergenceWarning,\n"
     ]
    },
    {
     "name": "stdout",
     "output_type": "stream",
     "text": [
      "[CV 3/3] END activation=logistic, hidden_layer_sizes=(7,), solver=adam;, score=0.861 total time= 1.9min\n",
      "[CV 1/3] END activation=tanh, hidden_layer_sizes=4, solver=lbfgs;, score=0.889 total time=   7.5s\n",
      "[CV 2/3] END activation=tanh, hidden_layer_sizes=4, solver=lbfgs;, score=0.889 total time=   5.4s\n"
     ]
    },
    {
     "name": "stderr",
     "output_type": "stream",
     "text": [
      "/usr/local/lib/python3.7/dist-packages/sklearn/neural_network/_multilayer_perceptron.py:549: ConvergenceWarning: lbfgs failed to converge (status=1):\n",
      "STOP: TOTAL NO. of ITERATIONS REACHED LIMIT.\n",
      "\n",
      "Increase the number of iterations (max_iter) or scale the data as shown in:\n",
      "    https://scikit-learn.org/stable/modules/preprocessing.html\n",
      "  self.n_iter_ = _check_optimize_result(\"lbfgs\", opt_res, self.max_iter)\n"
     ]
    },
    {
     "name": "stdout",
     "output_type": "stream",
     "text": [
      "[CV 3/3] END activation=tanh, hidden_layer_sizes=4, solver=lbfgs;, score=0.860 total time=  11.2s\n"
     ]
    },
    {
     "name": "stderr",
     "output_type": "stream",
     "text": [
      "/usr/local/lib/python3.7/dist-packages/sklearn/neural_network/_multilayer_perceptron.py:696: ConvergenceWarning: Stochastic Optimizer: Maximum iterations (200) reached and the optimization hasn't converged yet.\n",
      "  ConvergenceWarning,\n"
     ]
    },
    {
     "name": "stdout",
     "output_type": "stream",
     "text": [
      "[CV 1/3] END activation=tanh, hidden_layer_sizes=4, solver=sgd;, score=0.826 total time=  48.8s\n",
      "[CV 2/3] END activation=tanh, hidden_layer_sizes=4, solver=sgd;, score=0.773 total time=   7.5s\n"
     ]
    },
    {
     "name": "stderr",
     "output_type": "stream",
     "text": [
      "/usr/local/lib/python3.7/dist-packages/sklearn/neural_network/_multilayer_perceptron.py:696: ConvergenceWarning: Stochastic Optimizer: Maximum iterations (200) reached and the optimization hasn't converged yet.\n",
      "  ConvergenceWarning,\n"
     ]
    },
    {
     "name": "stdout",
     "output_type": "stream",
     "text": [
      "[CV 3/3] END activation=tanh, hidden_layer_sizes=4, solver=sgd;, score=0.824 total time=  49.3s\n",
      "[CV 1/3] END activation=tanh, hidden_layer_sizes=4, solver=adam;, score=0.858 total time=  37.4s\n",
      "[CV 2/3] END activation=tanh, hidden_layer_sizes=4, solver=adam;, score=0.851 total time=  39.6s\n",
      "[CV 3/3] END activation=tanh, hidden_layer_sizes=4, solver=adam;, score=0.849 total time=  42.6s\n",
      "[CV 1/3] END activation=tanh, hidden_layer_sizes=(5,), solver=lbfgs;, score=0.878 total time=  10.2s\n",
      "[CV 2/3] END activation=tanh, hidden_layer_sizes=(5,), solver=lbfgs;, score=0.882 total time=   9.6s\n",
      "[CV 3/3] END activation=tanh, hidden_layer_sizes=(5,), solver=lbfgs;, score=0.878 total time=   7.3s\n"
     ]
    },
    {
     "name": "stderr",
     "output_type": "stream",
     "text": [
      "/usr/local/lib/python3.7/dist-packages/sklearn/neural_network/_multilayer_perceptron.py:696: ConvergenceWarning: Stochastic Optimizer: Maximum iterations (200) reached and the optimization hasn't converged yet.\n",
      "  ConvergenceWarning,\n"
     ]
    },
    {
     "name": "stdout",
     "output_type": "stream",
     "text": [
      "[CV 1/3] END activation=tanh, hidden_layer_sizes=(5,), solver=sgd;, score=0.842 total time=  57.6s\n"
     ]
    },
    {
     "name": "stderr",
     "output_type": "stream",
     "text": [
      "/usr/local/lib/python3.7/dist-packages/sklearn/neural_network/_multilayer_perceptron.py:696: ConvergenceWarning: Stochastic Optimizer: Maximum iterations (200) reached and the optimization hasn't converged yet.\n",
      "  ConvergenceWarning,\n"
     ]
    },
    {
     "name": "stdout",
     "output_type": "stream",
     "text": [
      "[CV 2/3] END activation=tanh, hidden_layer_sizes=(5,), solver=sgd;, score=0.794 total time=  57.3s\n"
     ]
    },
    {
     "name": "stderr",
     "output_type": "stream",
     "text": [
      "/usr/local/lib/python3.7/dist-packages/sklearn/neural_network/_multilayer_perceptron.py:696: ConvergenceWarning: Stochastic Optimizer: Maximum iterations (200) reached and the optimization hasn't converged yet.\n",
      "  ConvergenceWarning,\n"
     ]
    },
    {
     "name": "stdout",
     "output_type": "stream",
     "text": [
      "[CV 3/3] END activation=tanh, hidden_layer_sizes=(5,), solver=sgd;, score=0.835 total time=  57.5s\n",
      "[CV 1/3] END activation=tanh, hidden_layer_sizes=(5,), solver=adam;, score=0.854 total time=  45.0s\n",
      "[CV 2/3] END activation=tanh, hidden_layer_sizes=(5,), solver=adam;, score=0.849 total time=  43.5s\n",
      "[CV 3/3] END activation=tanh, hidden_layer_sizes=(5,), solver=adam;, score=0.847 total time=  45.4s\n",
      "[CV 1/3] END activation=tanh, hidden_layer_sizes=(6,), solver=lbfgs;, score=0.886 total time=   7.9s\n",
      "[CV 2/3] END activation=tanh, hidden_layer_sizes=(6,), solver=lbfgs;, score=0.881 total time=   7.2s\n",
      "[CV 3/3] END activation=tanh, hidden_layer_sizes=(6,), solver=lbfgs;, score=0.871 total time=  12.5s\n"
     ]
    },
    {
     "name": "stderr",
     "output_type": "stream",
     "text": [
      "/usr/local/lib/python3.7/dist-packages/sklearn/neural_network/_multilayer_perceptron.py:696: ConvergenceWarning: Stochastic Optimizer: Maximum iterations (200) reached and the optimization hasn't converged yet.\n",
      "  ConvergenceWarning,\n"
     ]
    },
    {
     "name": "stdout",
     "output_type": "stream",
     "text": [
      "[CV 1/3] END activation=tanh, hidden_layer_sizes=(6,), solver=sgd;, score=0.837 total time= 1.1min\n"
     ]
    },
    {
     "name": "stderr",
     "output_type": "stream",
     "text": [
      "/usr/local/lib/python3.7/dist-packages/sklearn/neural_network/_multilayer_perceptron.py:696: ConvergenceWarning: Stochastic Optimizer: Maximum iterations (200) reached and the optimization hasn't converged yet.\n",
      "  ConvergenceWarning,\n"
     ]
    },
    {
     "name": "stdout",
     "output_type": "stream",
     "text": [
      "[CV 2/3] END activation=tanh, hidden_layer_sizes=(6,), solver=sgd;, score=0.827 total time= 1.1min\n"
     ]
    },
    {
     "name": "stderr",
     "output_type": "stream",
     "text": [
      "/usr/local/lib/python3.7/dist-packages/sklearn/neural_network/_multilayer_perceptron.py:696: ConvergenceWarning: Stochastic Optimizer: Maximum iterations (200) reached and the optimization hasn't converged yet.\n",
      "  ConvergenceWarning,\n"
     ]
    },
    {
     "name": "stdout",
     "output_type": "stream",
     "text": [
      "[CV 3/3] END activation=tanh, hidden_layer_sizes=(6,), solver=sgd;, score=0.798 total time= 1.1min\n",
      "[CV 1/3] END activation=tanh, hidden_layer_sizes=(6,), solver=adam;, score=0.854 total time=  50.2s\n",
      "[CV 2/3] END activation=tanh, hidden_layer_sizes=(6,), solver=adam;, score=0.847 total time=  49.1s\n",
      "[CV 3/3] END activation=tanh, hidden_layer_sizes=(6,), solver=adam;, score=0.845 total time=  53.1s\n",
      "[CV 1/3] END activation=tanh, hidden_layer_sizes=(7,), solver=lbfgs;, score=0.887 total time=   7.0s\n",
      "[CV 2/3] END activation=tanh, hidden_layer_sizes=(7,), solver=lbfgs;, score=0.887 total time=  10.0s\n",
      "[CV 3/3] END activation=tanh, hidden_layer_sizes=(7,), solver=lbfgs;, score=0.874 total time=   8.1s\n"
     ]
    },
    {
     "name": "stderr",
     "output_type": "stream",
     "text": [
      "/usr/local/lib/python3.7/dist-packages/sklearn/neural_network/_multilayer_perceptron.py:696: ConvergenceWarning: Stochastic Optimizer: Maximum iterations (200) reached and the optimization hasn't converged yet.\n",
      "  ConvergenceWarning,\n"
     ]
    },
    {
     "name": "stdout",
     "output_type": "stream",
     "text": [
      "[CV 1/3] END activation=tanh, hidden_layer_sizes=(7,), solver=sgd;, score=0.838 total time= 1.5min\n"
     ]
    },
    {
     "name": "stderr",
     "output_type": "stream",
     "text": [
      "/usr/local/lib/python3.7/dist-packages/sklearn/neural_network/_multilayer_perceptron.py:696: ConvergenceWarning: Stochastic Optimizer: Maximum iterations (200) reached and the optimization hasn't converged yet.\n",
      "  ConvergenceWarning,\n"
     ]
    },
    {
     "name": "stdout",
     "output_type": "stream",
     "text": [
      "[CV 2/3] END activation=tanh, hidden_layer_sizes=(7,), solver=sgd;, score=0.823 total time= 1.5min\n"
     ]
    },
    {
     "name": "stderr",
     "output_type": "stream",
     "text": [
      "/usr/local/lib/python3.7/dist-packages/sklearn/neural_network/_multilayer_perceptron.py:696: ConvergenceWarning: Stochastic Optimizer: Maximum iterations (200) reached and the optimization hasn't converged yet.\n",
      "  ConvergenceWarning,\n"
     ]
    },
    {
     "name": "stdout",
     "output_type": "stream",
     "text": [
      "[CV 3/3] END activation=tanh, hidden_layer_sizes=(7,), solver=sgd;, score=0.831 total time= 1.5min\n",
      "[CV 1/3] END activation=tanh, hidden_layer_sizes=(7,), solver=adam;, score=0.856 total time= 1.1min\n",
      "[CV 2/3] END activation=tanh, hidden_layer_sizes=(7,), solver=adam;, score=0.847 total time=  57.1s\n",
      "[CV 3/3] END activation=tanh, hidden_layer_sizes=(7,), solver=adam;, score=0.847 total time= 1.3min\n",
      "[CV 1/3] END activation=relu, hidden_layer_sizes=4, solver=lbfgs;, score=0.889 total time=  11.7s\n"
     ]
    },
    {
     "name": "stderr",
     "output_type": "stream",
     "text": [
      "/usr/local/lib/python3.7/dist-packages/sklearn/neural_network/_multilayer_perceptron.py:549: ConvergenceWarning: lbfgs failed to converge (status=1):\n",
      "STOP: TOTAL NO. of ITERATIONS REACHED LIMIT.\n",
      "\n",
      "Increase the number of iterations (max_iter) or scale the data as shown in:\n",
      "    https://scikit-learn.org/stable/modules/preprocessing.html\n",
      "  self.n_iter_ = _check_optimize_result(\"lbfgs\", opt_res, self.max_iter)\n"
     ]
    },
    {
     "name": "stdout",
     "output_type": "stream",
     "text": [
      "[CV 2/3] END activation=relu, hidden_layer_sizes=4, solver=lbfgs;, score=0.858 total time=  21.4s\n",
      "[CV 3/3] END activation=relu, hidden_layer_sizes=4, solver=lbfgs;, score=0.858 total time=   8.2s\n"
     ]
    },
    {
     "name": "stderr",
     "output_type": "stream",
     "text": [
      "/usr/local/lib/python3.7/dist-packages/sklearn/neural_network/_multilayer_perceptron.py:696: ConvergenceWarning: Stochastic Optimizer: Maximum iterations (200) reached and the optimization hasn't converged yet.\n",
      "  ConvergenceWarning,\n"
     ]
    },
    {
     "name": "stdout",
     "output_type": "stream",
     "text": [
      "[CV 1/3] END activation=relu, hidden_layer_sizes=4, solver=sgd;, score=0.816 total time=  49.1s\n"
     ]
    },
    {
     "name": "stderr",
     "output_type": "stream",
     "text": [
      "/usr/local/lib/python3.7/dist-packages/sklearn/neural_network/_multilayer_perceptron.py:696: ConvergenceWarning: Stochastic Optimizer: Maximum iterations (200) reached and the optimization hasn't converged yet.\n",
      "  ConvergenceWarning,\n"
     ]
    },
    {
     "name": "stdout",
     "output_type": "stream",
     "text": [
      "[CV 2/3] END activation=relu, hidden_layer_sizes=4, solver=sgd;, score=0.831 total time=  49.5s\n"
     ]
    },
    {
     "name": "stderr",
     "output_type": "stream",
     "text": [
      "/usr/local/lib/python3.7/dist-packages/sklearn/neural_network/_multilayer_perceptron.py:696: ConvergenceWarning: Stochastic Optimizer: Maximum iterations (200) reached and the optimization hasn't converged yet.\n",
      "  ConvergenceWarning,\n"
     ]
    },
    {
     "name": "stdout",
     "output_type": "stream",
     "text": [
      "[CV 3/3] END activation=relu, hidden_layer_sizes=4, solver=sgd;, score=0.837 total time=  49.7s\n",
      "[CV 1/3] END activation=relu, hidden_layer_sizes=4, solver=adam;, score=0.854 total time=  42.6s\n",
      "[CV 2/3] END activation=relu, hidden_layer_sizes=4, solver=adam;, score=0.849 total time=  41.4s\n",
      "[CV 3/3] END activation=relu, hidden_layer_sizes=4, solver=adam;, score=0.853 total time=  47.5s\n"
     ]
    },
    {
     "name": "stderr",
     "output_type": "stream",
     "text": [
      "/usr/local/lib/python3.7/dist-packages/sklearn/neural_network/_multilayer_perceptron.py:549: ConvergenceWarning: lbfgs failed to converge (status=1):\n",
      "STOP: TOTAL NO. of ITERATIONS REACHED LIMIT.\n",
      "\n",
      "Increase the number of iterations (max_iter) or scale the data as shown in:\n",
      "    https://scikit-learn.org/stable/modules/preprocessing.html\n",
      "  self.n_iter_ = _check_optimize_result(\"lbfgs\", opt_res, self.max_iter)\n"
     ]
    },
    {
     "name": "stdout",
     "output_type": "stream",
     "text": [
      "[CV 1/3] END activation=relu, hidden_layer_sizes=(5,), solver=lbfgs;, score=0.831 total time=  15.4s\n",
      "[CV 2/3] END activation=relu, hidden_layer_sizes=(5,), solver=lbfgs;, score=0.877 total time=   7.8s\n",
      "[CV 3/3] END activation=relu, hidden_layer_sizes=(5,), solver=lbfgs;, score=0.773 total time=   0.8s\n"
     ]
    },
    {
     "name": "stderr",
     "output_type": "stream",
     "text": [
      "/usr/local/lib/python3.7/dist-packages/sklearn/neural_network/_multilayer_perceptron.py:696: ConvergenceWarning: Stochastic Optimizer: Maximum iterations (200) reached and the optimization hasn't converged yet.\n",
      "  ConvergenceWarning,\n"
     ]
    },
    {
     "name": "stdout",
     "output_type": "stream",
     "text": [
      "[CV 1/3] END activation=relu, hidden_layer_sizes=(5,), solver=sgd;, score=0.839 total time=  59.5s\n"
     ]
    },
    {
     "name": "stderr",
     "output_type": "stream",
     "text": [
      "/usr/local/lib/python3.7/dist-packages/sklearn/neural_network/_multilayer_perceptron.py:696: ConvergenceWarning: Stochastic Optimizer: Maximum iterations (200) reached and the optimization hasn't converged yet.\n",
      "  ConvergenceWarning,\n"
     ]
    },
    {
     "name": "stdout",
     "output_type": "stream",
     "text": [
      "[CV 2/3] END activation=relu, hidden_layer_sizes=(5,), solver=sgd;, score=0.840 total time=  59.4s\n"
     ]
    },
    {
     "name": "stderr",
     "output_type": "stream",
     "text": [
      "/usr/local/lib/python3.7/dist-packages/sklearn/neural_network/_multilayer_perceptron.py:696: ConvergenceWarning: Stochastic Optimizer: Maximum iterations (200) reached and the optimization hasn't converged yet.\n",
      "  ConvergenceWarning,\n"
     ]
    },
    {
     "name": "stdout",
     "output_type": "stream",
     "text": [
      "[CV 3/3] END activation=relu, hidden_layer_sizes=(5,), solver=sgd;, score=0.788 total time=  59.7s\n",
      "[CV 1/3] END activation=relu, hidden_layer_sizes=(5,), solver=adam;, score=0.865 total time=  47.4s\n",
      "[CV 2/3] END activation=relu, hidden_layer_sizes=(5,), solver=adam;, score=0.862 total time=  47.7s\n",
      "[CV 3/3] END activation=relu, hidden_layer_sizes=(5,), solver=adam;, score=0.850 total time=  51.1s\n",
      "[CV 1/3] END activation=relu, hidden_layer_sizes=(6,), solver=lbfgs;, score=0.888 total time=   8.5s\n",
      "[CV 2/3] END activation=relu, hidden_layer_sizes=(6,), solver=lbfgs;, score=0.889 total time=   8.3s\n"
     ]
    },
    {
     "name": "stderr",
     "output_type": "stream",
     "text": [
      "/usr/local/lib/python3.7/dist-packages/sklearn/neural_network/_multilayer_perceptron.py:549: ConvergenceWarning: lbfgs failed to converge (status=1):\n",
      "STOP: TOTAL NO. of ITERATIONS REACHED LIMIT.\n",
      "\n",
      "Increase the number of iterations (max_iter) or scale the data as shown in:\n",
      "    https://scikit-learn.org/stable/modules/preprocessing.html\n",
      "  self.n_iter_ = _check_optimize_result(\"lbfgs\", opt_res, self.max_iter)\n"
     ]
    },
    {
     "name": "stdout",
     "output_type": "stream",
     "text": [
      "[CV 3/3] END activation=relu, hidden_layer_sizes=(6,), solver=lbfgs;, score=0.843 total time=  20.5s\n"
     ]
    },
    {
     "name": "stderr",
     "output_type": "stream",
     "text": [
      "/usr/local/lib/python3.7/dist-packages/sklearn/neural_network/_multilayer_perceptron.py:696: ConvergenceWarning: Stochastic Optimizer: Maximum iterations (200) reached and the optimization hasn't converged yet.\n",
      "  ConvergenceWarning,\n"
     ]
    },
    {
     "name": "stdout",
     "output_type": "stream",
     "text": [
      "[CV 1/3] END activation=relu, hidden_layer_sizes=(6,), solver=sgd;, score=0.820 total time= 1.1min\n"
     ]
    },
    {
     "name": "stderr",
     "output_type": "stream",
     "text": [
      "/usr/local/lib/python3.7/dist-packages/sklearn/neural_network/_multilayer_perceptron.py:696: ConvergenceWarning: Stochastic Optimizer: Maximum iterations (200) reached and the optimization hasn't converged yet.\n",
      "  ConvergenceWarning,\n"
     ]
    },
    {
     "name": "stdout",
     "output_type": "stream",
     "text": [
      "[CV 2/3] END activation=relu, hidden_layer_sizes=(6,), solver=sgd;, score=0.830 total time= 1.1min\n"
     ]
    },
    {
     "name": "stderr",
     "output_type": "stream",
     "text": [
      "/usr/local/lib/python3.7/dist-packages/sklearn/neural_network/_multilayer_perceptron.py:696: ConvergenceWarning: Stochastic Optimizer: Maximum iterations (200) reached and the optimization hasn't converged yet.\n",
      "  ConvergenceWarning,\n"
     ]
    },
    {
     "name": "stdout",
     "output_type": "stream",
     "text": [
      "[CV 3/3] END activation=relu, hidden_layer_sizes=(6,), solver=sgd;, score=0.774 total time= 1.1min\n",
      "[CV 1/3] END activation=relu, hidden_layer_sizes=(6,), solver=adam;, score=0.847 total time= 1.2min\n",
      "[CV 2/3] END activation=relu, hidden_layer_sizes=(6,), solver=adam;, score=0.861 total time=  49.4s\n",
      "[CV 3/3] END activation=relu, hidden_layer_sizes=(6,), solver=adam;, score=0.858 total time=  54.9s\n",
      "[CV 1/3] END activation=relu, hidden_layer_sizes=(7,), solver=lbfgs;, score=0.883 total time=   7.6s\n",
      "[CV 2/3] END activation=relu, hidden_layer_sizes=(7,), solver=lbfgs;, score=0.879 total time=   9.0s\n",
      "[CV 3/3] END activation=relu, hidden_layer_sizes=(7,), solver=lbfgs;, score=0.859 total time=   9.9s\n"
     ]
    },
    {
     "name": "stderr",
     "output_type": "stream",
     "text": [
      "/usr/local/lib/python3.7/dist-packages/sklearn/neural_network/_multilayer_perceptron.py:696: ConvergenceWarning: Stochastic Optimizer: Maximum iterations (200) reached and the optimization hasn't converged yet.\n",
      "  ConvergenceWarning,\n"
     ]
    },
    {
     "name": "stdout",
     "output_type": "stream",
     "text": [
      "[CV 1/3] END activation=relu, hidden_layer_sizes=(7,), solver=sgd;, score=0.804 total time= 1.3min\n"
     ]
    },
    {
     "name": "stderr",
     "output_type": "stream",
     "text": [
      "/usr/local/lib/python3.7/dist-packages/sklearn/neural_network/_multilayer_perceptron.py:696: ConvergenceWarning: Stochastic Optimizer: Maximum iterations (200) reached and the optimization hasn't converged yet.\n",
      "  ConvergenceWarning,\n"
     ]
    },
    {
     "name": "stdout",
     "output_type": "stream",
     "text": [
      "[CV 2/3] END activation=relu, hidden_layer_sizes=(7,), solver=sgd;, score=0.846 total time= 1.3min\n"
     ]
    },
    {
     "name": "stderr",
     "output_type": "stream",
     "text": [
      "/usr/local/lib/python3.7/dist-packages/sklearn/neural_network/_multilayer_perceptron.py:696: ConvergenceWarning: Stochastic Optimizer: Maximum iterations (200) reached and the optimization hasn't converged yet.\n",
      "  ConvergenceWarning,\n"
     ]
    },
    {
     "name": "stdout",
     "output_type": "stream",
     "text": [
      "[CV 3/3] END activation=relu, hidden_layer_sizes=(7,), solver=sgd;, score=0.780 total time= 1.3min\n",
      "[CV 1/3] END activation=relu, hidden_layer_sizes=(7,), solver=adam;, score=0.862 total time=  54.6s\n",
      "[CV 2/3] END activation=relu, hidden_layer_sizes=(7,), solver=adam;, score=0.856 total time=  50.9s\n",
      "[CV 3/3] END activation=relu, hidden_layer_sizes=(7,), solver=adam;, score=0.849 total time=  55.1s\n",
      "0.8873050026896181\n"
     ]
    },
    {
     "data": {
      "text/plain": [
       "{'activation': 'logistic', 'hidden_layer_sizes': (6,), 'solver': 'lbfgs'}"
      ]
     },
     "execution_count": 15,
     "metadata": {},
     "output_type": "execute_result"
    }
   ],
   "source": [
    "# ANN using Grid Search\n",
    "X = df['tweet']\n",
    "Y = df['class']\n",
    "cv = TfidfVectorizer(lowercase=True)\n",
    "X = cv.fit_transform(X)\n",
    "train_X, test_X, train_Y, test_Y = train_test_split(X,Y,train_size=0.85)\n",
    "size = X.shape[0]\n",
    "acc = []\n",
    "test_sequence=[]\n",
    "params4 = {'solver': ['lbfgs', 'sgd', 'adam'], 'hidden_layer_sizes':[(4), (5,),(6,), (7,)],'activation':['identity', 'logistic', 'tanh', 'relu']}\n",
    "grid = GridSearchCV(MLPClassifier(), params4, cv=3, scoring='accuracy',verbose=3)\n",
    "grid.fit(train_X,train_Y)\n",
    "pred_y = grid.predict(test_X)\n",
    "print(metrics.accuracy_score(pred_y,test_Y))\n",
    "grid.best_params_"
   ]
  },
  {
   "cell_type": "code",
   "execution_count": null,
   "metadata": {
    "colab": {
     "base_uri": "https://localhost:8080/"
    },
    "id": "q_CAgZYPizQg",
    "outputId": "275b7ee0-5fe8-4ad9-831d-08d598de61f5"
   },
   "outputs": [
    {
     "name": "stdout",
     "output_type": "stream",
     "text": [
      "Fitting 100 folds for each of 2 candidates, totalling 200 fits\n",
      "[CV 1/100] END ..................criterion=gini;, score=0.769 total time=   0.1s\n"
     ]
    },
    {
     "name": "stderr",
     "output_type": "stream",
     "text": [
      "/usr/local/lib/python3.7/dist-packages/sklearn/model_selection/_split.py:680: UserWarning: The least populated class in y has only 66 members, which is less than n_splits=100.\n",
      "  UserWarning,\n"
     ]
    },
    {
     "name": "stdout",
     "output_type": "stream",
     "text": [
      "[CV 2/100] END ..................criterion=gini;, score=0.923 total time=   0.1s\n",
      "[CV 3/100] END ..................criterion=gini;, score=0.769 total time=   0.1s\n",
      "[CV 4/100] END ..................criterion=gini;, score=0.846 total time=   0.1s\n",
      "[CV 5/100] END ..................criterion=gini;, score=0.846 total time=   0.1s\n",
      "[CV 6/100] END ..................criterion=gini;, score=1.000 total time=   0.1s\n",
      "[CV 7/100] END ..................criterion=gini;, score=0.923 total time=   0.1s\n",
      "[CV 8/100] END ..................criterion=gini;, score=0.923 total time=   0.1s\n",
      "[CV 9/100] END ..................criterion=gini;, score=0.923 total time=   0.1s\n",
      "[CV 10/100] END .................criterion=gini;, score=0.769 total time=   0.1s\n",
      "[CV 11/100] END .................criterion=gini;, score=0.846 total time=   0.1s\n",
      "[CV 12/100] END .................criterion=gini;, score=0.923 total time=   0.1s\n",
      "[CV 13/100] END .................criterion=gini;, score=0.846 total time=   0.1s\n",
      "[CV 14/100] END .................criterion=gini;, score=1.000 total time=   0.1s\n",
      "[CV 15/100] END .................criterion=gini;, score=0.923 total time=   0.1s\n",
      "[CV 16/100] END .................criterion=gini;, score=0.923 total time=   0.1s\n",
      "[CV 17/100] END .................criterion=gini;, score=0.692 total time=   0.1s\n",
      "[CV 18/100] END .................criterion=gini;, score=0.923 total time=   0.1s\n",
      "[CV 19/100] END .................criterion=gini;, score=0.846 total time=   0.1s\n",
      "[CV 20/100] END .................criterion=gini;, score=0.769 total time=   0.1s\n",
      "[CV 21/100] END .................criterion=gini;, score=0.846 total time=   0.1s\n",
      "[CV 22/100] END .................criterion=gini;, score=1.000 total time=   0.1s\n",
      "[CV 23/100] END .................criterion=gini;, score=0.923 total time=   0.1s\n",
      "[CV 24/100] END .................criterion=gini;, score=0.846 total time=   0.1s\n",
      "[CV 25/100] END .................criterion=gini;, score=0.846 total time=   0.1s\n",
      "[CV 26/100] END .................criterion=gini;, score=0.846 total time=   0.1s\n",
      "[CV 27/100] END .................criterion=gini;, score=0.846 total time=   0.1s\n",
      "[CV 28/100] END .................criterion=gini;, score=0.923 total time=   0.1s\n",
      "[CV 29/100] END .................criterion=gini;, score=0.615 total time=   0.1s\n",
      "[CV 30/100] END .................criterion=gini;, score=0.923 total time=   0.1s\n",
      "[CV 31/100] END .................criterion=gini;, score=0.923 total time=   0.1s\n",
      "[CV 32/100] END .................criterion=gini;, score=0.846 total time=   0.1s\n",
      "[CV 33/100] END .................criterion=gini;, score=0.846 total time=   0.1s\n",
      "[CV 34/100] END .................criterion=gini;, score=0.846 total time=   0.1s\n",
      "[CV 35/100] END .................criterion=gini;, score=0.846 total time=   0.1s\n",
      "[CV 36/100] END .................criterion=gini;, score=0.692 total time=   0.1s\n",
      "[CV 37/100] END .................criterion=gini;, score=0.923 total time=   0.1s\n",
      "[CV 38/100] END .................criterion=gini;, score=1.000 total time=   0.1s\n",
      "[CV 39/100] END .................criterion=gini;, score=0.923 total time=   0.1s\n",
      "[CV 40/100] END .................criterion=gini;, score=0.917 total time=   0.1s\n",
      "[CV 41/100] END .................criterion=gini;, score=0.917 total time=   0.1s\n",
      "[CV 42/100] END .................criterion=gini;, score=0.917 total time=   0.1s\n",
      "[CV 43/100] END .................criterion=gini;, score=0.917 total time=   0.1s\n",
      "[CV 44/100] END .................criterion=gini;, score=0.750 total time=   0.1s\n",
      "[CV 45/100] END .................criterion=gini;, score=0.917 total time=   0.1s\n",
      "[CV 46/100] END .................criterion=gini;, score=0.917 total time=   0.1s\n",
      "[CV 47/100] END .................criterion=gini;, score=0.833 total time=   0.1s\n",
      "[CV 48/100] END .................criterion=gini;, score=1.000 total time=   0.1s\n",
      "[CV 49/100] END .................criterion=gini;, score=0.833 total time=   0.1s\n",
      "[CV 50/100] END .................criterion=gini;, score=0.833 total time=   0.1s\n",
      "[CV 51/100] END .................criterion=gini;, score=0.667 total time=   0.1s\n",
      "[CV 52/100] END .................criterion=gini;, score=1.000 total time=   0.1s\n",
      "[CV 53/100] END .................criterion=gini;, score=0.833 total time=   0.1s\n",
      "[CV 54/100] END .................criterion=gini;, score=0.833 total time=   0.1s\n",
      "[CV 55/100] END .................criterion=gini;, score=0.917 total time=   0.1s\n",
      "[CV 56/100] END .................criterion=gini;, score=1.000 total time=   0.1s\n",
      "[CV 57/100] END .................criterion=gini;, score=0.917 total time=   0.1s\n",
      "[CV 58/100] END .................criterion=gini;, score=0.917 total time=   0.1s\n",
      "[CV 59/100] END .................criterion=gini;, score=0.917 total time=   0.1s\n",
      "[CV 60/100] END .................criterion=gini;, score=0.750 total time=   0.1s\n",
      "[CV 61/100] END .................criterion=gini;, score=0.833 total time=   0.1s\n",
      "[CV 62/100] END .................criterion=gini;, score=0.833 total time=   0.1s\n",
      "[CV 63/100] END .................criterion=gini;, score=0.917 total time=   0.1s\n",
      "[CV 64/100] END .................criterion=gini;, score=0.917 total time=   0.1s\n",
      "[CV 65/100] END .................criterion=gini;, score=0.917 total time=   0.1s\n",
      "[CV 66/100] END .................criterion=gini;, score=1.000 total time=   0.1s\n",
      "[CV 67/100] END .................criterion=gini;, score=1.000 total time=   0.1s\n",
      "[CV 68/100] END .................criterion=gini;, score=1.000 total time=   0.1s\n",
      "[CV 69/100] END .................criterion=gini;, score=0.833 total time=   0.1s\n",
      "[CV 70/100] END .................criterion=gini;, score=0.917 total time=   0.1s\n",
      "[CV 71/100] END .................criterion=gini;, score=1.000 total time=   0.1s\n",
      "[CV 72/100] END .................criterion=gini;, score=0.833 total time=   0.1s\n",
      "[CV 73/100] END .................criterion=gini;, score=0.833 total time=   0.1s\n",
      "[CV 74/100] END .................criterion=gini;, score=0.833 total time=   0.1s\n",
      "[CV 75/100] END .................criterion=gini;, score=0.750 total time=   0.1s\n",
      "[CV 76/100] END .................criterion=gini;, score=0.833 total time=   0.1s\n",
      "[CV 77/100] END .................criterion=gini;, score=0.917 total time=   0.1s\n",
      "[CV 78/100] END .................criterion=gini;, score=0.833 total time=   0.1s\n",
      "[CV 79/100] END .................criterion=gini;, score=0.750 total time=   0.1s\n",
      "[CV 80/100] END .................criterion=gini;, score=0.917 total time=   0.1s\n",
      "[CV 81/100] END .................criterion=gini;, score=0.667 total time=   0.1s\n",
      "[CV 82/100] END .................criterion=gini;, score=0.917 total time=   0.1s\n",
      "[CV 83/100] END .................criterion=gini;, score=0.750 total time=   0.1s\n",
      "[CV 84/100] END .................criterion=gini;, score=0.833 total time=   0.1s\n",
      "[CV 85/100] END .................criterion=gini;, score=0.917 total time=   0.1s\n",
      "[CV 86/100] END .................criterion=gini;, score=0.917 total time=   0.1s\n",
      "[CV 87/100] END .................criterion=gini;, score=0.750 total time=   0.1s\n",
      "[CV 88/100] END .................criterion=gini;, score=0.833 total time=   0.1s\n",
      "[CV 89/100] END .................criterion=gini;, score=0.917 total time=   0.1s\n",
      "[CV 90/100] END .................criterion=gini;, score=0.917 total time=   0.1s\n",
      "[CV 91/100] END .................criterion=gini;, score=0.833 total time=   0.1s\n",
      "[CV 92/100] END .................criterion=gini;, score=0.833 total time=   0.1s\n",
      "[CV 93/100] END .................criterion=gini;, score=0.750 total time=   0.1s\n",
      "[CV 94/100] END .................criterion=gini;, score=0.833 total time=   0.1s\n",
      "[CV 95/100] END .................criterion=gini;, score=0.750 total time=   0.1s\n",
      "[CV 96/100] END .................criterion=gini;, score=0.917 total time=   0.1s\n",
      "[CV 97/100] END .................criterion=gini;, score=1.000 total time=   0.1s\n",
      "[CV 98/100] END .................criterion=gini;, score=0.917 total time=   0.1s\n",
      "[CV 99/100] END .................criterion=gini;, score=0.917 total time=   0.1s\n",
      "[CV 100/100] END ................criterion=gini;, score=0.833 total time=   0.1s\n",
      "[CV 1/100] END ...............criterion=entropy;, score=0.846 total time=   0.1s\n",
      "[CV 2/100] END ...............criterion=entropy;, score=0.846 total time=   0.1s\n",
      "[CV 3/100] END ...............criterion=entropy;, score=0.923 total time=   0.1s\n",
      "[CV 4/100] END ...............criterion=entropy;, score=0.846 total time=   0.1s\n",
      "[CV 5/100] END ...............criterion=entropy;, score=0.846 total time=   0.1s\n",
      "[CV 6/100] END ...............criterion=entropy;, score=1.000 total time=   0.1s\n",
      "[CV 7/100] END ...............criterion=entropy;, score=0.923 total time=   0.1s\n",
      "[CV 8/100] END ...............criterion=entropy;, score=0.923 total time=   0.1s\n",
      "[CV 9/100] END ...............criterion=entropy;, score=0.846 total time=   0.1s\n",
      "[CV 10/100] END ..............criterion=entropy;, score=0.846 total time=   0.1s\n",
      "[CV 11/100] END ..............criterion=entropy;, score=0.846 total time=   0.1s\n",
      "[CV 12/100] END ..............criterion=entropy;, score=0.769 total time=   0.1s\n",
      "[CV 13/100] END ..............criterion=entropy;, score=0.769 total time=   0.1s\n",
      "[CV 14/100] END ..............criterion=entropy;, score=1.000 total time=   0.1s\n",
      "[CV 15/100] END ..............criterion=entropy;, score=1.000 total time=   0.1s\n",
      "[CV 16/100] END ..............criterion=entropy;, score=0.846 total time=   0.1s\n",
      "[CV 17/100] END ..............criterion=entropy;, score=0.769 total time=   0.1s\n",
      "[CV 18/100] END ..............criterion=entropy;, score=0.846 total time=   0.1s\n",
      "[CV 19/100] END ..............criterion=entropy;, score=0.846 total time=   0.1s\n",
      "[CV 20/100] END ..............criterion=entropy;, score=0.846 total time=   0.1s\n",
      "[CV 21/100] END ..............criterion=entropy;, score=0.846 total time=   0.1s\n",
      "[CV 22/100] END ..............criterion=entropy;, score=0.923 total time=   0.1s\n",
      "[CV 23/100] END ..............criterion=entropy;, score=0.846 total time=   0.1s\n",
      "[CV 24/100] END ..............criterion=entropy;, score=0.846 total time=   0.1s\n",
      "[CV 25/100] END ..............criterion=entropy;, score=0.923 total time=   0.1s\n",
      "[CV 26/100] END ..............criterion=entropy;, score=0.846 total time=   0.1s\n",
      "[CV 27/100] END ..............criterion=entropy;, score=0.846 total time=   0.1s\n",
      "[CV 28/100] END ..............criterion=entropy;, score=0.923 total time=   0.1s\n",
      "[CV 29/100] END ..............criterion=entropy;, score=0.769 total time=   0.1s\n",
      "[CV 30/100] END ..............criterion=entropy;, score=0.923 total time=   0.1s\n",
      "[CV 31/100] END ..............criterion=entropy;, score=0.923 total time=   0.1s\n",
      "[CV 32/100] END ..............criterion=entropy;, score=0.769 total time=   0.1s\n",
      "[CV 33/100] END ..............criterion=entropy;, score=0.769 total time=   0.1s\n",
      "[CV 34/100] END ..............criterion=entropy;, score=0.846 total time=   0.2s\n",
      "[CV 35/100] END ..............criterion=entropy;, score=0.846 total time=   0.1s\n",
      "[CV 36/100] END ..............criterion=entropy;, score=0.692 total time=   0.1s\n",
      "[CV 37/100] END ..............criterion=entropy;, score=0.769 total time=   0.1s\n",
      "[CV 38/100] END ..............criterion=entropy;, score=1.000 total time=   0.1s\n",
      "[CV 39/100] END ..............criterion=entropy;, score=1.000 total time=   0.1s\n",
      "[CV 40/100] END ..............criterion=entropy;, score=0.917 total time=   0.1s\n",
      "[CV 41/100] END ..............criterion=entropy;, score=0.917 total time=   0.1s\n",
      "[CV 42/100] END ..............criterion=entropy;, score=0.917 total time=   0.1s\n",
      "[CV 43/100] END ..............criterion=entropy;, score=0.917 total time=   0.1s\n",
      "[CV 44/100] END ..............criterion=entropy;, score=0.750 total time=   0.1s\n",
      "[CV 45/100] END ..............criterion=entropy;, score=0.917 total time=   0.1s\n",
      "[CV 46/100] END ..............criterion=entropy;, score=0.833 total time=   0.1s\n",
      "[CV 47/100] END ..............criterion=entropy;, score=0.917 total time=   0.1s\n",
      "[CV 48/100] END ..............criterion=entropy;, score=1.000 total time=   0.1s\n",
      "[CV 49/100] END ..............criterion=entropy;, score=0.917 total time=   0.1s\n",
      "[CV 50/100] END ..............criterion=entropy;, score=0.833 total time=   0.1s\n",
      "[CV 51/100] END ..............criterion=entropy;, score=0.583 total time=   0.1s\n",
      "[CV 52/100] END ..............criterion=entropy;, score=1.000 total time=   0.1s\n",
      "[CV 53/100] END ..............criterion=entropy;, score=0.833 total time=   0.1s\n",
      "[CV 54/100] END ..............criterion=entropy;, score=0.917 total time=   0.1s\n",
      "[CV 55/100] END ..............criterion=entropy;, score=0.917 total time=   0.1s\n",
      "[CV 56/100] END ..............criterion=entropy;, score=1.000 total time=   0.1s\n",
      "[CV 57/100] END ..............criterion=entropy;, score=1.000 total time=   0.1s\n",
      "[CV 58/100] END ..............criterion=entropy;, score=0.917 total time=   0.1s\n",
      "[CV 59/100] END ..............criterion=entropy;, score=0.833 total time=   0.1s\n",
      "[CV 60/100] END ..............criterion=entropy;, score=0.833 total time=   0.1s\n",
      "[CV 61/100] END ..............criterion=entropy;, score=0.833 total time=   0.1s\n",
      "[CV 62/100] END ..............criterion=entropy;, score=0.833 total time=   0.1s\n",
      "[CV 63/100] END ..............criterion=entropy;, score=0.917 total time=   0.1s\n",
      "[CV 64/100] END ..............criterion=entropy;, score=0.750 total time=   0.1s\n",
      "[CV 65/100] END ..............criterion=entropy;, score=0.917 total time=   0.1s\n",
      "[CV 66/100] END ..............criterion=entropy;, score=1.000 total time=   0.1s\n",
      "[CV 67/100] END ..............criterion=entropy;, score=0.833 total time=   0.1s\n",
      "[CV 68/100] END ..............criterion=entropy;, score=0.833 total time=   0.1s\n",
      "[CV 69/100] END ..............criterion=entropy;, score=0.833 total time=   0.2s\n",
      "[CV 70/100] END ..............criterion=entropy;, score=0.833 total time=   0.1s\n",
      "[CV 71/100] END ..............criterion=entropy;, score=0.917 total time=   0.1s\n",
      "[CV 72/100] END ..............criterion=entropy;, score=0.833 total time=   0.1s\n",
      "[CV 73/100] END ..............criterion=entropy;, score=0.667 total time=   0.1s\n",
      "[CV 74/100] END ..............criterion=entropy;, score=0.833 total time=   0.1s\n",
      "[CV 75/100] END ..............criterion=entropy;, score=0.667 total time=   0.1s\n",
      "[CV 76/100] END ..............criterion=entropy;, score=0.917 total time=   0.1s\n",
      "[CV 77/100] END ..............criterion=entropy;, score=0.833 total time=   0.1s\n",
      "[CV 78/100] END ..............criterion=entropy;, score=0.833 total time=   0.1s\n",
      "[CV 79/100] END ..............criterion=entropy;, score=0.833 total time=   0.1s\n",
      "[CV 80/100] END ..............criterion=entropy;, score=0.917 total time=   0.1s\n",
      "[CV 81/100] END ..............criterion=entropy;, score=0.833 total time=   0.1s\n",
      "[CV 82/100] END ..............criterion=entropy;, score=0.833 total time=   0.1s\n",
      "[CV 83/100] END ..............criterion=entropy;, score=0.833 total time=   0.1s\n",
      "[CV 84/100] END ..............criterion=entropy;, score=0.750 total time=   0.1s\n",
      "[CV 85/100] END ..............criterion=entropy;, score=0.833 total time=   0.1s\n",
      "[CV 86/100] END ..............criterion=entropy;, score=0.917 total time=   0.1s\n",
      "[CV 87/100] END ..............criterion=entropy;, score=0.750 total time=   0.1s\n",
      "[CV 88/100] END ..............criterion=entropy;, score=0.833 total time=   0.1s\n",
      "[CV 89/100] END ..............criterion=entropy;, score=0.917 total time=   0.1s\n",
      "[CV 90/100] END ..............criterion=entropy;, score=0.917 total time=   0.1s\n",
      "[CV 91/100] END ..............criterion=entropy;, score=0.917 total time=   0.1s\n",
      "[CV 92/100] END ..............criterion=entropy;, score=0.833 total time=   0.1s\n",
      "[CV 93/100] END ..............criterion=entropy;, score=0.750 total time=   0.1s\n",
      "[CV 94/100] END ..............criterion=entropy;, score=0.917 total time=   0.1s\n",
      "[CV 95/100] END ..............criterion=entropy;, score=0.750 total time=   0.1s\n",
      "[CV 96/100] END ..............criterion=entropy;, score=0.833 total time=   0.1s\n",
      "[CV 97/100] END ..............criterion=entropy;, score=0.833 total time=   0.1s\n",
      "[CV 98/100] END ..............criterion=entropy;, score=0.833 total time=   0.1s\n",
      "[CV 99/100] END ..............criterion=entropy;, score=0.917 total time=   0.1s\n",
      "[CV 100/100] END .............criterion=entropy;, score=0.917 total time=   0.1s\n",
      "0.8586841099265174\n"
     ]
    },
    {
     "data": {
      "text/plain": [
       "{'criterion': 'gini'}"
      ]
     },
     "execution_count": 14,
     "metadata": {},
     "output_type": "execute_result"
    }
   ],
   "source": [
    "# DT using GridSearch\n",
    "\n",
    "train_X, test_X, train_Y, test_Y = train_test_split(X,Y,train_size=5/100)\n",
    "def train_using_gini(X_train, X_test, Y_train):\n",
    "    clf_gini = DecisionTreeClassifier(criterion = \"gini\",random_state = 100, max_depth=3, min_samples_leaf=5)\n",
    "    clf_gini.fit(X_train, Y_train)\n",
    "    return clf_gini\n",
    "      \n",
    "def tarin_using_entropy(X_train, X_test, y_train):\n",
    "    clf_entropy = DecisionTreeClassifier(criterion = \"entropy\", random_state = 100, max_depth = 3, min_samples_leaf = 5)\n",
    "    clf_entropy.fit(X_train, y_train)\n",
    "    return clf_entropy\n",
    "\n",
    "def prediction(X_test, clf_object):\n",
    "    y_pred = clf_object.predict(test_X)\n",
    "    print(\"Predicted values:\")\n",
    "    print(y_pred)\n",
    "    return y_pred\n",
    "    \n",
    "def cal_accuracy(y_test, y_pred):\n",
    "    \"\"\"print(\"Confusion Matrix: \",confusion_matrix(y_test, y_pred))\n",
    "    print (\"Accuracy : \",accuracy_score(y_test,y_pred)*100)\n",
    "    print(\"Report : \",classification_report(y_test, y_pred))\"\"\"\n",
    "    return accuracy_score(y_test,y_pred)*100\n",
    "\n",
    "params5 = {'criterion':['gini','entropy']}\n",
    "grid = GridSearchCV(DecisionTreeClassifier(), params5, cv=100, scoring='accuracy',verbose=3)\n",
    "grid.fit(train_X,train_Y)\n",
    "pred_y = grid.predict(test_X)\n",
    "print(metrics.accuracy_score(pred_y,test_Y))\n",
    "grid.best_params_"
   ]
  },
  {
   "cell_type": "markdown",
   "metadata": {
    "id": "rAJXzWRchFOq"
   },
   "source": [
    "# GirdSearch on All the Models (It will Return Model)"
   ]
  },
  {
   "cell_type": "code",
   "execution_count": null,
   "metadata": {
    "id": "uOfF1wjYhQr6"
   },
   "outputs": [],
   "source": [
    "train_X, test_X, train_Y, test_Y = train_test_split(X,Y,train_size=85/100)\n",
    "\n",
    "# Classifiers\n",
    "clf1 = MultinomialNB()\n",
    "clf2 = SVC()\n",
    "clf3 = KNeighborsClassifier()\n",
    "clf4 = MLPClassifier(max_iter=500)\n",
    "clf5 = DecisionTreeClassifier()\n",
    "\n",
    "# Params\n",
    "params1 = {'classifier__alpha' : [10**0,5**-1,10*-1,10**-2,10**-3,10**-4],\n",
    "           'classifier':[clf1]}\n",
    "params2 = {'classifier__C': [10**-2, 10**-1, 10**0, 10**1, 10**2],\n",
    "         'classifier__gamma': [10**0,10**-1,10**-2,10**-3,10**-4],\n",
    "         'classifier__kernel': ['linear','rbf','poly'],\n",
    "         'classifier': [clf2]}\n",
    "params3 = {'classifier__n_neigbhours': range(1,100,2), 'classifier':[clf3]}\n",
    "params4 = {'classifier__solver': ['lbfgs', 'sgd'], 'classifier__hidden_layer_sizes':[(4,),(5,),(6,),(7,)],'classifier__activation':['logistic', 'tanh', 'relu'],'classifier':[clf4]}\n",
    "params5 = {'classifier__criterion':['gini','entropy','log_loss'], 'classifier':[clf5]}\n",
    "params = [params2, params1, params3, params4, params5]\n",
    "pipeline = Pipeline([('classifier',clf1)])\n",
    "search = GridSearchCV(pipeline,params,cv=5,n_jobs=-1,refit=True,scoring='accuracy',verbose=3)\n",
    "search.fit(train_X,train_Y)\n",
    "print(\"The Best Model: \",search.best_params_)\n",
    "print(\"The Best Accuracy: \",search.best_score_)"
   ]
  }
 ],
 "metadata": {
  "colab": {
   "collapsed_sections": [
    "mNfau43NmYZy",
    "WkNT9mzGfuCX",
    "rAJXzWRchFOq"
   ],
   "provenance": []
  },
  "kernelspec": {
   "display_name": "Python 3 (ipykernel)",
   "language": "python",
   "name": "python3"
  },
  "language_info": {
   "codemirror_mode": {
    "name": "ipython",
    "version": 3
   },
   "file_extension": ".py",
   "mimetype": "text/x-python",
   "name": "python",
   "nbconvert_exporter": "python",
   "pygments_lexer": "ipython3",
   "version": "3.10.6"
  }
 },
 "nbformat": 4,
 "nbformat_minor": 1
}
